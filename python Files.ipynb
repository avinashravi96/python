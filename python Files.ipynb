{
 "cells": [
  {
   "cell_type": "code",
   "execution_count": 24,
   "metadata": {},
   "outputs": [],
   "source": [
    "import os"
   ]
  },
  {
   "cell_type": "code",
   "execution_count": 25,
   "metadata": {},
   "outputs": [
    {
     "data": {
      "text/plain": [
       "'/home/avinash'"
      ]
     },
     "execution_count": 25,
     "metadata": {},
     "output_type": "execute_result"
    }
   ],
   "source": [
    "os.getcwd()"
   ]
  },
  {
   "cell_type": "code",
   "execution_count": 26,
   "metadata": {},
   "outputs": [],
   "source": [
    "f=open('testfile.txt','w+')"
   ]
  },
  {
   "cell_type": "code",
   "execution_count": 27,
   "metadata": {},
   "outputs": [
    {
     "data": {
      "text/plain": [
       "25"
      ]
     },
     "execution_count": 27,
     "metadata": {},
     "output_type": "execute_result"
    }
   ],
   "source": [
    "f.write(\"text editing in the file \")"
   ]
  },
  {
   "cell_type": "code",
   "execution_count": 28,
   "metadata": {},
   "outputs": [],
   "source": [
    "f.close()"
   ]
  },
  {
   "cell_type": "code",
   "execution_count": 29,
   "metadata": {},
   "outputs": [
    {
     "data": {
      "text/plain": [
       "<_io.TextIOWrapper name='testfile.txt' mode='w+' encoding='UTF-8'>"
      ]
     },
     "execution_count": 29,
     "metadata": {},
     "output_type": "execute_result"
    }
   ],
   "source": [
    "f"
   ]
  },
  {
   "cell_type": "code",
   "execution_count": 30,
   "metadata": {},
   "outputs": [
    {
     "data": {
      "text/plain": [
       "'/home/avinash'"
      ]
     },
     "execution_count": 30,
     "metadata": {},
     "output_type": "execute_result"
    }
   ],
   "source": [
    "os.getcwd()"
   ]
  },
  {
   "cell_type": "code",
   "execution_count": null,
   "metadata": {},
   "outputs": [],
   "source": []
  },
  {
   "cell_type": "code",
   "execution_count": null,
   "metadata": {},
   "outputs": [],
   "source": []
  },
  {
   "cell_type": "code",
   "execution_count": 31,
   "metadata": {},
   "outputs": [],
   "source": [
    "import shutil"
   ]
  },
  {
   "cell_type": "code",
   "execution_count": 32,
   "metadata": {},
   "outputs": [
    {
     "data": {
      "text/plain": [
       "'/media/avinash/GAMES/ReLearn Pro/tutorial videos/complete-python-3-masterclass-journey/13 Orange Mission - Regular Expressions and Reading Files/testfile.txt'"
      ]
     },
     "execution_count": 32,
     "metadata": {},
     "output_type": "execute_result"
    }
   ],
   "source": [
    "shutil.move(\"testfile.txt\",\"/media/avinash/GAMES/ReLearn Pro/tutorial videos/complete-python-3-masterclass-journey/13 Orange Mission - Regular Expressions and Reading Files\")"
   ]
  },
  {
   "cell_type": "code",
   "execution_count": 33,
   "metadata": {},
   "outputs": [
    {
     "data": {
      "text/plain": [
       "'/home/avinash/testfile.txt'"
      ]
     },
     "execution_count": 33,
     "metadata": {},
     "output_type": "execute_result"
    }
   ],
   "source": [
    "shutil.move('/media/avinash/GAMES/ReLearn Pro/tutorial videos/complete-python-3-masterclass-journey/13 Orange Mission - Regular Expressions and Reading Files/testfile.txt',os.getcwd())"
   ]
  },
  {
   "cell_type": "code",
   "execution_count": null,
   "metadata": {},
   "outputs": [],
   "source": [
    "os.unlink(path)#this is for remove the file"
   ]
  },
  {
   "cell_type": "code",
   "execution_count": null,
   "metadata": {},
   "outputs": [],
   "source": [
    "os.rmdir(path)#this is for remove the dir which is empty"
   ]
  },
  {
   "cell_type": "code",
   "execution_count": null,
   "metadata": {},
   "outputs": [],
   "source": [
    "os.rmtree(path)#remove entire dir or file"
   ]
  },
  {
   "cell_type": "code",
   "execution_count": 34,
   "metadata": {},
   "outputs": [],
   "source": [
    "os.unlink('/home/avinash/testfile.txt')"
   ]
  },
  {
   "cell_type": "code",
   "execution_count": 35,
   "metadata": {},
   "outputs": [
    {
     "data": {
      "text/plain": [
       "['Documents',\n",
       " '.vscode',\n",
       " 'chromium',\n",
       " '.dbvis',\n",
       " 'Social Network Ads-G.csv',\n",
       " 'Videos',\n",
       " '.kde',\n",
       " '.netbeans',\n",
       " 'Pictures',\n",
       " '.wine',\n",
       " '.rpmdb',\n",
       " '.dmrc',\n",
       " '.xinputrc',\n",
       " 'Templates',\n",
       " '.face',\n",
       " 'test.csv',\n",
       " '.install4j',\n",
       " 'Music',\n",
       " '.bash_logout',\n",
       " 'project.ipynb',\n",
       " 'Golf-Data-set.xlsx',\n",
       " '.local',\n",
       " '.npm',\n",
       " '.plotly',\n",
       " 'webscraping excercise.ipynb',\n",
       " '.ipython',\n",
       " '.java',\n",
       " 'test.xlsx',\n",
       " 'Weather-B.csv',\n",
       " 'Untitled4.ipynb',\n",
       " '.profile',\n",
       " '.ICEauthority',\n",
       " '.wget-hsts',\n",
       " '.ssh',\n",
       " 'techportal-master',\n",
       " '.python_history',\n",
       " '.cache',\n",
       " '.pylint.d',\n",
       " 'test.jpg',\n",
       " 'pattern.c',\n",
       " '.pki',\n",
       " '.docker',\n",
       " 'ML practice.ipynb',\n",
       " '.atom',\n",
       " '.cinnamon',\n",
       " 'Untitled2.ipynb',\n",
       " '.bashrc',\n",
       " '13 Orange Mission - Regular Expressions and Reading Files',\n",
       " '.xdman',\n",
       " '.sudo_as_admin_successful',\n",
       " 'Untitled3.ipynb',\n",
       " '.linuxmint',\n",
       " '.xsession-errors',\n",
       " 'training excercises oops concepts.ipynb',\n",
       " '.bash_history',\n",
       " 'webrtc-checkout',\n",
       " 'pattern',\n",
       " '.dbus',\n",
       " '.jupyter',\n",
       " '.thumbnails',\n",
       " '.mysql_history',\n",
       " 'Desktop',\n",
       " '.gnome',\n",
       " '.Xauthority',\n",
       " '.gimp-2.8',\n",
       " '.mozilla',\n",
       " '.themes',\n",
       " 'Untitled Folder',\n",
       " '.gphoto',\n",
       " 'depot_tools',\n",
       " 'Downloads',\n",
       " 'Public',\n",
       " '.config',\n",
       " '.gksu.lock',\n",
       " 'web scraping training.ipynb',\n",
       " 'K-Nearest Neighbours.ipynb',\n",
       " 'Naive Bayes.ipynb',\n",
       " '.ipynb_checkpoints',\n",
       " '.putty',\n",
       " 'Untitled1.ipynb',\n",
       " 'Social_Network_Ads.csv',\n",
       " '.thunderbird',\n",
       " 'python Files.ipynb',\n",
       " '.cufflinks',\n",
       " '.icons',\n",
       " '.gconf']"
      ]
     },
     "execution_count": 35,
     "metadata": {},
     "output_type": "execute_result"
    }
   ],
   "source": [
    "os.listdir()"
   ]
  },
  {
   "cell_type": "code",
   "execution_count": null,
   "metadata": {},
   "outputs": [],
   "source": []
  },
  {
   "cell_type": "code",
   "execution_count": 39,
   "metadata": {},
   "outputs": [
    {
     "name": "stdout",
     "output_type": "stream",
     "text": [
      "Requirement already satisfied: send2trash in /usr/local/lib/python3.5/dist-packages (1.5.0)\r\n"
     ]
    }
   ],
   "source": [
    "!pip3 install --user send2trash"
   ]
  },
  {
   "cell_type": "code",
   "execution_count": null,
   "metadata": {},
   "outputs": [],
   "source": []
  }
 ],
 "metadata": {
  "kernelspec": {
   "display_name": "Python 3",
   "language": "python",
   "name": "python3"
  },
  "language_info": {
   "codemirror_mode": {
    "name": "ipython",
    "version": 3
   },
   "file_extension": ".py",
   "mimetype": "text/x-python",
   "name": "python",
   "nbconvert_exporter": "python",
   "pygments_lexer": "ipython3",
   "version": "3.5.2"
  }
 },
 "nbformat": 4,
 "nbformat_minor": 2
}
