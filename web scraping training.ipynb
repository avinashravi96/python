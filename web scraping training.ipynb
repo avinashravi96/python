{
 "cells": [
  {
   "cell_type": "code",
   "execution_count": 5,
   "metadata": {},
   "outputs": [
    {
     "name": "stdout",
     "output_type": "stream",
     "text": [
      "Requirement already satisfied: requests in /usr/lib/python3/dist-packages (2.9.1)\r\n"
     ]
    }
   ],
   "source": [
    "!pip3 install requests"
   ]
  },
  {
   "cell_type": "code",
   "execution_count": 8,
   "metadata": {},
   "outputs": [
    {
     "name": "stdout",
     "output_type": "stream",
     "text": [
      "Requirement already satisfied: lxml in /usr/lib/python3/dist-packages (3.5.0)\r\n"
     ]
    }
   ],
   "source": [
    "!pip3 install --user lxml"
   ]
  },
  {
   "cell_type": "code",
   "execution_count": 9,
   "metadata": {},
   "outputs": [
    {
     "name": "stdout",
     "output_type": "stream",
     "text": [
      "Collecting bs4\n",
      "  Using cached https://files.pythonhosted.org/packages/10/ed/7e8b97591f6f456174139ec089c769f89a94a1a4025fe967691de971f314/bs4-0.0.1.tar.gz\n",
      "Collecting beautifulsoup4 (from bs4)\n",
      "  Using cached https://files.pythonhosted.org/packages/21/0a/47fdf541c97fd9b6a610cb5fd518175308a7cc60569962e776ac52420387/beautifulsoup4-4.6.3-py3-none-any.whl\n",
      "Installing collected packages: beautifulsoup4, bs4\n",
      "  Running setup.py install for bs4 ... \u001b[?25ldone\n",
      "\u001b[?25hSuccessfully installed beautifulsoup4-4.6.3 bs4-0.0.1\n"
     ]
    }
   ],
   "source": [
    "!pip3 install --user bs4"
   ]
  },
  {
   "cell_type": "code",
   "execution_count": 2,
   "metadata": {},
   "outputs": [],
   "source": [
    "import requests"
   ]
  },
  {
   "cell_type": "code",
   "execution_count": 11,
   "metadata": {},
   "outputs": [],
   "source": [
    "res=requests.get(\"http://www.tensorflow.org\")"
   ]
  },
  {
   "cell_type": "code",
   "execution_count": 12,
   "metadata": {},
   "outputs": [
    {
     "data": {
      "text/plain": [
       "requests.models.Response"
      ]
     },
     "execution_count": 12,
     "metadata": {},
     "output_type": "execute_result"
    }
   ],
   "source": [
    "type(res)"
   ]
  },
  {
   "cell_type": "code",
   "execution_count": 13,
   "metadata": {
    "collapsed": true
   },
   "outputs": [
    {
     "data": {
      "text/plain": [
       "'\\n\\n\\n\\n\\n\\n<!DOCTYPE html><html lang=\"en\"\\n      class=\"\"><head><script>var a=window.devsite||{};window.devsite=a;a.readyCallbacks=[];window.devsite.readyCallbacks=a.readyCallbacks;a.ready=function(b){a.readyCallbacks.push(b)};window.devsite.ready=a.ready;\\n</script><meta charset=\"utf-8\"><meta name=\"xsrf_token\" content=\"W7TaZlC7x6eKW8xDZUdYYF8VeaPRzDdw6dILfCUd7zw6MTUzODU4Njg5NTM0Nzk1NA\" /><link rel=\"canonical\" href=\"https://www.tensorflow.org/\"><link rel=\"alternate\" href=\"https://www.tensorflow.org/?hl=es\" hreflang=\"es\"><link rel=\"alternate\" href=\"https://www.tensorflow.org/?hl=id\" hreflang=\"id\"><link rel=\"alternate\" href=\"https://www.tensorflow.org/?hl=ja\" hreflang=\"ja\"><link rel=\"alternate\" href=\"https://www.tensorflow.org/?hl=ko\" hreflang=\"ko\"><link rel=\"alternate\" href=\"https://www.tensorflow.org/?hl=pt-br\" hreflang=\"pt-br\"><link rel=\"alternate\" href=\"https://www.tensorflow.org/\" hreflang=\"en\"><link rel=\"alternate\" href=\"https://www.tensorflow.org/?hl=zh-cn\" hreflang=\"zh-Hans\"><link rel=\"alternate\" href=\"https://tensorflow.google.cn/?hl=es\" hreflang=\"es-cn\"><link rel=\"alternate\" href=\"https://tensorflow.google.cn/?hl=id\" hreflang=\"id-cn\"><link rel=\"alternate\" href=\"https://tensorflow.google.cn/?hl=ja\" hreflang=\"ja-cn\"><link rel=\"alternate\" href=\"https://tensorflow.google.cn/?hl=ko\" hreflang=\"ko-cn\"><link rel=\"alternate\" href=\"https://tensorflow.google.cn/?hl=pt-br\" hreflang=\"pt-br-cn\"><link rel=\"alternate\" href=\"https://tensorflow.google.cn/\" hreflang=\"en-cn\"><link rel=\"alternate\" href=\"https://tensorflow.google.cn/?hl=zh-cn\" hreflang=\"zh-Hans-cn\"><link rel=\"alternate\" href=\"https://www.tensorflow.org/\" hreflang=\"x-default\"><script type=\"application/ld+json\">\\n  {\\n    \"@context\": \"http://schema.org/\",\\n    \"@type\": \"Organization\",\\n    \"name\": \"TensorFlow\",\\n    \"logo\": \"https://www.tensorflow.org/_static/images/tensorflow/logo.png\",\\n    \"url\": \"https://www.tensorflow.org\"\\n  }\\n  </script><script type=\"application/ld+json\">\\n  {\\n    \"@context\": \"http://schema.org\",\\n    \"@type\": \"WebSite\",\\n    \"name\": \"TensorFlow\",\\n    \"url\": \"https://www.tensorflow.org\",\\n    \"potentialAction\": {\\n      \"@type\": \"SearchAction\",\\n      \"target\": \"https://www.tensorflow.org/s/results?q={search_term_string}\",\\n      \"query-input\": \"required name=search_term_string\"\\n    }\\n  }\\n  </script><link rel=\"shortcut icon\" href=\"https://www.tensorflow.org/_static/1e1304016d/images/tensorflow/favicon.png\"><link rel=\"apple-touch-icon\" href=\"https://www.tensorflow.org/images/apple-touch-icon-180x180.png\"><meta name=\"viewport\" content=\"width=device-width, initial-scale=1\"><link rel=\"stylesheet\"\\n      \\n      href=\"//fonts.googleapis.com/css?family=Roboto:300,400,400italic,500,500italic,700,700italic|Roboto+Mono:400,500,700|Material+Icons\"\\n      ><link rel=\"stylesheet\"\\n        href=\"https://www.tensorflow.org/_static/1e1304016d/css/devsite-tensorflow-orange.css\"><link rel=\"search\"\\n        type=\"application/opensearchdescription+xml\"\\n        title=\"TensorFlow\"\\n        href=\"https://www.tensorflow.org/s/opensearch.xml\"><script src=\"https://www.tensorflow.org/_static/1e1304016d/js/jquery-bundle.js\"></script><meta property=\"og:site_name\" content=\"TensorFlow\"><meta property=\"og:type\" content=\"website\"><meta property=\"og:url\" content=\"https://www.tensorflow.org/\"><meta property=\"og:locale\" content=\"en\"><script>\\n    var ___gcfg = ___gcfg || {};\\n    ___gcfg.lang = \\'en\\';\\n  </script><title>TensorFlow</title><meta property=\"og:title\" content=\"TensorFlow\"><meta name=\"description\" content=\"An open source machine learning framework for everyone\"><meta property=\"og:description\" content=\"An open source machine learning framework for everyone\"><meta property=\"og:image\"\\n          content=\"https://www.tensorflow.org/images/tf_logo_social.png\"><meta property=\"og:image:secure_url\"\\n          content=\"https://www.tensorflow.org/images/tf_logo_social.png\"><meta property=\"og:image:width\"\\n          content=\"1200\"><meta property=\"og:image:height\"\\n          content=\"675\"><link rel=\"stylesheet\" href=\"https://www.tensorflow.org/site-assets/css/landing-page.css\"></head><body class=\"\\n               \\n  devsite-landing-page\\n  \\n  \\n\\n               \\n               \\n               \\n               \\n               devsite-header-no-lower-tabs\"\\n        \\n        \\n        id=\"top_of_page\"><div class=\"devsite-wrapper\"><div class=\"devsite-top-section-wrapper\\n            \"><header class=\"devsite-top-section nocontent\"><div class=\"devsite-top-logo-row-wrapper-wrapper\"><div class=\"devsite-top-logo-row-wrapper\"><div class=\"devsite-top-logo-row devsite-full-site-width\"><button type=\"button\" class=\"devsite-expand-section-nav devsite-header-icon-button\\n                                       button-flat material-icons gc-analytics-event\"\\n                  data-category=\"Site-Wide Custom Events\" data-label=\"Hamburger menu\"></button><div class=\"devsite-product-name-wrapper\"><a href=\"https://www.tensorflow.org/\"\\n   class=\"devsite-site-logo-link gc-analytics-event\"\\n   data-category=\"Site-Wide Custom Events\"\\n   data-label=\"Site logo\"\\n   track-type = \"globalNav\"\\n   track-name = \"tensorflow\"\\n   track-metadata-eventDetail = \"nav\"\\n   track-metadata-position = \"nav\"><img src=\"https://www.tensorflow.org/_static/1e1304016d/images/tensorflow/lockup.png\"\\n       class=\"devsite-site-logo\" alt=\"TensorFlow\"><span class=\"devsite-site-name devsite-product-name\">TensorFlow</span></a></div><div class=\"devsite-header-upper-tabs\"><nav class=\"devsite-doc-set-nav devsite-nav devsite-overflow-tabs-scroll-wrapper\"><ul class=\"devsite-doc-set-nav-tab-list devsite-overflow-tabs-scroll\"><li class=\"devsite-doc-set-nav-tab-container devsite-nav-tab\\n                 \"><a href=\"https://www.tensorflow.org/install/\"\\n           class=\" devsite-nav-tab\\n                  devsite-doc-set-nav-tab devsite-doc-set-nav-tab-link gc-analytics-event\"\\n           \\n         \\n           data-category=\"Site-Wide Custom Events\"\\n         \\n           data-label=\"Tab: Install\"\\n         >\\n          Install\\n        </a></li><li class=\"devsite-doc-set-nav-tab-container devsite-nav-tab\\n                 \"><a href=\"https://www.tensorflow.org/tutorials/\"\\n           class=\" devsite-nav-tab\\n                  devsite-doc-set-nav-tab devsite-doc-set-nav-tab-link gc-analytics-event\"\\n           \\n         \\n           data-category=\"Site-Wide Custom Events\"\\n         \\n           data-label=\"Tab: Develop\"\\n         >\\n          Develop\\n        </a></li><li class=\"devsite-doc-set-nav-tab-container devsite-nav-tab\\n                 \"><a href=\"https://www.tensorflow.org/community/\"\\n           class=\" devsite-nav-tab\\n                  devsite-doc-set-nav-tab devsite-doc-set-nav-tab-link gc-analytics-event\"\\n           \\n         \\n           data-category=\"Site-Wide Custom Events\"\\n         \\n           data-label=\"Tab: Community\"\\n         >\\n          Community\\n        </a></li><li class=\"devsite-doc-set-nav-tab-container devsite-nav-tab\\n                 devsite-dropdown-menu-container\"><a href=\"https://www.tensorflow.org/api_docs/python/tf\"\\n           class=\" devsite-nav-tab\\n                  devsite-doc-set-nav-tab devsite-doc-set-nav-tab-link gc-analytics-event\"\\n           \\n         \\n           data-category=\"Site-Wide Custom Events\"\\n         \\n           data-label=\"Tab: API\"\\n         >\\n          API\\n        </a><span class=\"devsite-menu-toggle devsite-nav-tab material-icons\"></span><div class=\"devsite-dropdown-menu-wrapper\\n                    \"><div class=\"devsite-dropdown-menu\"><div class=\"devsite-dropdown-menu-column\"><ul class=\"devsite-nav-list devsite-dropdown-menu-section\"><li class=\"devsite-nav-item devsite-nav-item-heading\"><span class=\"devsite-nav-title devsite-nav-title-no-path\">\\n                          API\\n                        </span></li><li class=\"devsite-nav-item\"><a class=\"devsite-nav-title\" href=\"https://www.tensorflow.org/api_docs/python/tf\">\\n                          r1.11 (stable)\\n                        </a></li><li class=\"devsite-nav-item\"><a class=\"devsite-nav-title\" href=\"https://www.tensorflow.org/versions/r1.10/api_docs/python/tf\">\\n                          r1.10\\n                        </a></li><li class=\"devsite-nav-item\"><a class=\"devsite-nav-title\" href=\"https://www.tensorflow.org/versions/r1.9/api_docs/python/tf\">\\n                          r1.9\\n                        </a></li><li class=\"devsite-nav-item\"><a class=\"devsite-nav-title\" href=\"https://www.tensorflow.org/versions/r1.8/api_docs/python/tf\">\\n                          r1.8\\n                        </a></li><li class=\"devsite-nav-item\"><a class=\"devsite-nav-title\" href=\"https://www.tensorflow.org/versions/r1.7/api_docs/python/tf\">\\n                          r1.7\\n                        </a></li><li class=\"devsite-nav-item\"><a class=\"devsite-nav-title\" href=\"https://www.tensorflow.org/versions/r1.6/api_docs/python/tf\">\\n                          r1.6\\n                        </a></li><li class=\"devsite-nav-item\"><a class=\"devsite-nav-title\" href=\"https://www.tensorflow.org/versions/\">\\n                          More…\\n                        </a></li></ul></div></div></div></li><li class=\"devsite-doc-set-nav-tab-container devsite-nav-tab\\n                 devsite-dropdown-menu-container\"><a href=\"https://www.tensorflow.org/ecosystem/\"\\n           class=\" devsite-nav-tab\\n                  devsite-doc-set-nav-tab devsite-doc-set-nav-tab-link gc-analytics-event\"\\n           \\n         \\n           data-category=\"Site-Wide Custom Events\"\\n         \\n           data-label=\"Tab: Ecosystem\"\\n         >\\n          Ecosystem\\n        </a><span class=\"devsite-menu-toggle devsite-nav-tab material-icons\"></span><div class=\"devsite-dropdown-menu-wrapper\\n                    \"><div class=\"devsite-dropdown-menu\"><div class=\"devsite-dropdown-menu-column\"><ul class=\"devsite-nav-list devsite-dropdown-menu-section\"><li class=\"devsite-nav-item devsite-nav-item-heading\"><span class=\"devsite-nav-title devsite-nav-title-no-path\">\\n                          Projects\\n                        </span></li><li class=\"devsite-nav-item\"><a class=\"devsite-nav-title\" href=\"https://www.tensorflow.org/serving/\">\\n                          Serving\\n                        </a></li><li class=\"devsite-nav-item\"><a class=\"devsite-nav-title\" href=\"https://www.tensorflow.org/hub/\">\\n                          Hub\\n                        </a></li><li class=\"devsite-nav-item\"><a class=\"devsite-nav-title\" href=\"https://www.tensorflow.org/tfx\">\\n                          TFX\\n                        </a></li><li class=\"devsite-nav-item\"><a class=\"devsite-nav-title\" href=\"https://www.tensorflow.org/probability/\">\\n                          Probability\\n                        </a></li><li class=\"devsite-nav-item\"><a class=\"devsite-nav-title\" href=\"https://www.tensorflow.org/ecosystem/\">\\n                          More…\\n                        </a></li></ul></div><div class=\"devsite-dropdown-menu-column\"><ul class=\"devsite-nav-list devsite-dropdown-menu-section\"><li class=\"devsite-nav-item devsite-nav-item-heading\"><span class=\"devsite-nav-title devsite-nav-title-no-path\">\\n                          Implementations\\n                        </span></li><li class=\"devsite-nav-item\"><a class=\"devsite-nav-title\" href=\"https://js.tensorflow.org\">\\n                          TensorFlow.js\\n                        </a></li><li class=\"devsite-nav-item\"><a class=\"devsite-nav-title\" href=\"https://www.tensorflow.org/lite/\">\\n                          TensorFlow Lite\\n                        </a></li><li class=\"devsite-nav-item\"><a class=\"devsite-nav-title\" href=\"https://github.com/tensorflow/swift\">\\n                          Swift for TensorFlow\\n                        </a></li></ul></div><div class=\"devsite-dropdown-menu-column\"><ul class=\"devsite-nav-list devsite-dropdown-menu-section\"><li class=\"devsite-nav-item devsite-nav-item-heading\"><span class=\"devsite-nav-title devsite-nav-title-no-path\">\\n                          Research\\n                        </span></li><li class=\"devsite-nav-item\"><a class=\"devsite-nav-title\" href=\"https://www.tensorflow.org/tfrc/\">\\n                          Research Cloud\\n                        </a></li><li class=\"devsite-nav-item\"><a class=\"devsite-nav-title\" href=\"https://github.com/tensorflow/models\">\\n                          Model Garden\\n                        </a></li><li class=\"devsite-nav-item\"><a class=\"devsite-nav-title\" href=\"https://magenta.tensorflow.org\">\\n                          Magenta\\n                        </a></li><li class=\"devsite-nav-item\"><a class=\"devsite-nav-title\" href=\"https://github.com/google/nucleus\">\\n                          Nucleus\\n                        </a></li><li class=\"devsite-nav-item\"><a class=\"devsite-nav-title\" href=\"https://colab.research.google.com/notebooks/welcome.ipynb\">\\n                          Colab\\n                        </a></li></ul></div></div></div></li></ul></nav></div><form class=\"devsite-search-form\"\\n                action=\"https://www.tensorflow.org/s/results/\"\\n                method=\"GET\"\\n                id=\"top-search\"\\n                search-placeholder=\\'Search\\'><div id=\"searchbox\" class=\"devsite-searchbox\"><input placeholder=\\'Search\\'\\n         \\n         type=\"text\"\\n         class=\"devsite-search-field devsite-search-query\"\\n         name=\"q\"\\n         value=\"\"\\n         autocomplete=\"off\"\\n         \\n         aria-label=\"Search box\"><div class=\"devsite-search-image material-icons\"></div></div><input type=\"hidden\"\\n       name=\"p\"\\n       id=\"search_project\"\\n       value=\"/\"\\n       data-project-name=\"TensorFlow\"\\n       data-project-path=\"/\"\\n       data-query-match=\"\"><input type=\"hidden\" class=\"suggest-project\" value=\"TensorFlow\" /><div class=\"suggest-project-metadata\" data-home_url=\"/\" data-path=\"/\" data-name=\"Android Developers\" ></div><div class=\"suggest-project-metadata\" data-home_url=\"/\" data-path=\"/\" data-name=\"Android Open Source Project\" ></div><div class=\"suggest-project-metadata\" data-home_url=\"/\" data-path=\"/\" data-name=\"Apigee Docs\" ></div><div class=\"suggest-project-metadata\" data-home_url=\"/\" data-path=\"/\" data-name=\"Google Cloud\" ></div><div class=\"suggest-project-metadata\" data-home_url=\"/\" data-path=\"/\" data-name=\"Dialogflow\" ></div><div class=\"suggest-project-metadata\" data-home_url=\"/\" data-path=\"/\" data-name=\"Firebase\" ></div><div class=\"suggest-project-metadata\" data-home_url=\"/\" data-path=\"/\" data-name=\"Android Developers\" ></div><div class=\"suggest-project-metadata\" data-home_url=\"/\" data-path=\"/\" data-name=\"Link.app\" ></div><div class=\"suggest-project-metadata\" data-home_url=\"/\" data-path=\"/\" data-name=\"Nest Developers\" ></div><div class=\"suggest-project-metadata\" data-home_url=\"/\" data-path=\"/\" data-name=\"OpenThread\" ></div><div class=\"suggest-project-metadata\" data-home_url=\"https://www.orbitera.com/\" data-path=\"/\" data-name=\"Orbitera\" ></div><div class=\"suggest-project-metadata\" data-home_url=\"/\" data-path=\"/\" data-name=\"TensorFlow\" ></div></form><a class=\"devsite-header-link devsite-top-button button gc-analytics-event\"\\n               \\n               href=\"//github.com/tensorflow\"\\n               \\n               data-category=\"Site-Wide Custom Events\"\\n               data-label=\"Site header link\"\\n               track-type=\"globalNav\"\\n               track-name=\"github\"\\n               track-metadata-position=\"nav\"\\n               track-metadata-eventDetail=\\'nav\\'><div class=\"devsite-header-link-label\">GitHub</div></a><button type=\"button\" class=\"devsite-search-button devsite-header-icon-button button-flat\\n                                       material-icons\"></button></div></div></div><div class=\"devsite-collapsible-section\"><div class=\"devsite-header-background devsite-full-site-width\"><div class=\"devsite-product-id-row devsite-full-site-width\"><div class=\"devsite-product-description-row\"><div class=\"devsite-product-description\">\\n      \\n        An open source machine learning framework for everyone\\n      \\n    </div></div><div class=\"devsite-product-button-row\\n            \"><a\\n    \\n      href=\"https://www.tensorflow.org/tutorials/\"\\n    \\n    \\n      class=\"button \"\\n    \\n    >\\n    Get started\\n  </a></div></div></div></div></header><script>\\n    if (window.jQuery) {\\n      $(document).ready(function() {\\n        if (window.devsite && window.devsite.search) {\\n          \\n          window.devsite.search.init(\\'en\\')\\n        }\\n      });\\n    }\\n  </script></div><div id=\"gc-wrapper\"itemscope itemtype=\"http://schema.org/Article\"><input class=\"google-analytics-id-json\" type=\"hidden\" value=\"{&quot;dimensions&quot;: {&quot;dimension6&quot;: &quot;en&quot;, &quot;dimension4&quot;: &quot;TensorFlow&quot;, &quot;dimension5&quot;: &quot;en&quot;, &quot;dimension3&quot;: false, &quot;dimension1&quot;: &quot;Signed out&quot;, &quot;dimension8&quot;: null}, &quot;gaid&quot;: &quot;UA-69864048-1&quot;}\"><script>\\n      var dataLayer = [{\"freeTrialEligibleUser\": \"False\", \"userCountry\": \"IN\", \"language\": {\"requested\": \"en\", \"served\": \"en\"}, \"projectName\": \"TensorFlow\", \"scriptsafe\": null, \"signedIn\": \"False\", \"internalUser\": \"False\"}];\\n    </script>\\n\\n      \\n        <div class=\"devsite-site-mask\"></div>\\n        \\n  \\n\\n\\n<nav class=\"devsite-nav-responsive devsite-nav nocontent\" tabindex=\"0\">\\n  \\n  <div class=\"devsite-nav-responsive-tabs-panel\">\\n    \\n      \\n        \\n\\n\\n\\n<nav class=\"devsite-nav-responsive-tabs devsite-nav\">\\n  <ul class=\"devsite-nav-list\">\\n  \\n\\n  \\n    <li class=\"devsite-nav-item devsite-nav-item-heading\">\\n      \\n        <a \\n             href=\"https://www.tensorflow.org/install/?nav=true\"\\n           \\n           class=\"devsite-nav-responsive-tab devsite-nav-title gc-analytics-event\\n                  \"\\n           data-category=\"Site-Wide Custom Events\" data-label=\"Responsive Tab: Install\">\\n          Install\\n        </a>\\n      \\n\\n      \\n\\n      \\n\\n      \\n    </li>\\n  \\n    <li class=\"devsite-nav-item devsite-nav-item-heading\">\\n      \\n        <a \\n             href=\"https://www.tensorflow.org/tutorials/?nav=true\"\\n           \\n           class=\"devsite-nav-responsive-tab devsite-nav-title gc-analytics-event\\n                  \"\\n           data-category=\"Site-Wide Custom Events\" data-label=\"Responsive Tab: Develop\">\\n          Develop\\n        </a>\\n      \\n\\n      \\n\\n      \\n\\n      \\n    </li>\\n  \\n    <li class=\"devsite-nav-item devsite-nav-item-heading\">\\n      \\n        <a \\n             href=\"https://www.tensorflow.org/community/?nav=true\"\\n           \\n           class=\"devsite-nav-responsive-tab devsite-nav-title gc-analytics-event\\n                  \"\\n           data-category=\"Site-Wide Custom Events\" data-label=\"Responsive Tab: Community\">\\n          Community\\n        </a>\\n      \\n\\n      \\n\\n      \\n\\n      \\n    </li>\\n  \\n    <li class=\"devsite-nav-item devsite-nav-item-heading\">\\n      \\n        <a \\n             href=\"https://www.tensorflow.org/api_docs/python/tf\"\\n           \\n           class=\"devsite-nav-responsive-tab devsite-nav-title gc-analytics-event\\n                  \"\\n           data-category=\"Site-Wide Custom Events\" data-label=\"Responsive Tab: API\">\\n          API\\n        </a>\\n      \\n\\n      \\n\\n      \\n\\n      \\n    </li>\\n  \\n    <li class=\"devsite-nav-item devsite-nav-item-heading\">\\n      \\n        <a \\n             href=\"https://www.tensorflow.org/ecosystem/\"\\n           \\n           class=\"devsite-nav-responsive-tab devsite-nav-title gc-analytics-event\\n                  \"\\n           data-category=\"Site-Wide Custom Events\" data-label=\"Responsive Tab: Ecosystem\">\\n          Ecosystem\\n        </a>\\n      \\n\\n      \\n\\n      \\n\\n      \\n    </li>\\n  \\n\\n  \\n    <li class=\"devsite-nav-item devsite-nav-item-heading\">\\n      <a href=\"//github.com/tensorflow\"\\n         class=\"devsite-nav-responsive-tab devsite-nav-title gc-analytics-event\"\\n         data-category=\"Site-Wide Custom Events\"\\n         data-label=\"Responsive Tab: GitHub\">\\n        GitHub\\n      </a>\\n    </li>\\n  \\n  </ul>\\n</nav>\\n\\n\\n      \\n    \\n  </div>\\n  \\n  \\n  \\n    \\n      \\n    \\n      \\n    \\n      \\n    \\n      \\n        <div class=\"devsite-nav-responsive-index-panel\" data-tab=\"API\">\\n          <div class=\"devsite-nav-index-back\" data-tab=\"API\" tabindex=\"0\"></div>\\n          <nav>\\n            <ul class=\"devsite-nav-list\">\\n            \\n              \\n                \\n                <li class=\"devsite-nav-item devsite-nav-item-heading\">\\n                  <span class=\"devsite-nav-title devsite-nav-title-no-path\">\\n                    API\\n                  </span>\\n                </li>\\n                \\n                \\n                <li class=\"devsite-nav-item\">\\n                  <a class=\"devsite-nav-title\" href=\"https://www.tensorflow.org/api_docs/python/tf\">\\n                    r1.11 (stable)\\n                  </a>\\n                </li>\\n                \\n                <li class=\"devsite-nav-item\">\\n                  <a class=\"devsite-nav-title\" href=\"https://www.tensorflow.org/versions/r1.10/api_docs/python/tf\">\\n                    r1.10\\n                  </a>\\n                </li>\\n                \\n                <li class=\"devsite-nav-item\">\\n                  <a class=\"devsite-nav-title\" href=\"https://www.tensorflow.org/versions/r1.9/api_docs/python/tf\">\\n                    r1.9\\n                  </a>\\n                </li>\\n                \\n                <li class=\"devsite-nav-item\">\\n                  <a class=\"devsite-nav-title\" href=\"https://www.tensorflow.org/versions/r1.8/api_docs/python/tf\">\\n                    r1.8\\n                  </a>\\n                </li>\\n                \\n                <li class=\"devsite-nav-item\">\\n                  <a class=\"devsite-nav-title\" href=\"https://www.tensorflow.org/versions/r1.7/api_docs/python/tf\">\\n                    r1.7\\n                  </a>\\n                </li>\\n                \\n                <li class=\"devsite-nav-item\">\\n                  <a class=\"devsite-nav-title\" href=\"https://www.tensorflow.org/versions/r1.6/api_docs/python/tf\">\\n                    r1.6\\n                  </a>\\n                </li>\\n                \\n                <li class=\"devsite-nav-item\">\\n                  <a class=\"devsite-nav-title\" href=\"https://www.tensorflow.org/versions/\">\\n                    More…\\n                  </a>\\n                </li>\\n                \\n              \\n            \\n            </ul>\\n          </nav>\\n        </div>\\n      \\n    \\n      \\n        <div class=\"devsite-nav-responsive-index-panel\" data-tab=\"Ecosystem\">\\n          <div class=\"devsite-nav-index-back\" data-tab=\"Ecosystem\" tabindex=\"0\"></div>\\n          <nav>\\n            <ul class=\"devsite-nav-list\">\\n            \\n              \\n                \\n                <li class=\"devsite-nav-item devsite-nav-item-heading\">\\n                  <span class=\"devsite-nav-title devsite-nav-title-no-path\">\\n                    Projects\\n                  </span>\\n                </li>\\n                \\n                \\n                <li class=\"devsite-nav-item\">\\n                  <a class=\"devsite-nav-title\" href=\"https://www.tensorflow.org/serving/\">\\n                    Serving\\n                  </a>\\n                </li>\\n                \\n                <li class=\"devsite-nav-item\">\\n                  <a class=\"devsite-nav-title\" href=\"https://www.tensorflow.org/hub/\">\\n                    Hub\\n                  </a>\\n                </li>\\n                \\n                <li class=\"devsite-nav-item\">\\n                  <a class=\"devsite-nav-title\" href=\"https://www.tensorflow.org/tfx\">\\n                    TFX\\n                  </a>\\n                </li>\\n                \\n                <li class=\"devsite-nav-item\">\\n                  <a class=\"devsite-nav-title\" href=\"https://www.tensorflow.org/probability/\">\\n                    Probability\\n                  </a>\\n                </li>\\n                \\n                <li class=\"devsite-nav-item\">\\n                  <a class=\"devsite-nav-title\" href=\"https://www.tensorflow.org/ecosystem/\">\\n                    More…\\n                  </a>\\n                </li>\\n                \\n              \\n            \\n              \\n                \\n                <li class=\"devsite-nav-item devsite-nav-item-heading\">\\n                  <span class=\"devsite-nav-title devsite-nav-title-no-path\">\\n                    Implementations\\n                  </span>\\n                </li>\\n                \\n                \\n                <li class=\"devsite-nav-item\">\\n                  <a class=\"devsite-nav-title\" href=\"https://js.tensorflow.org\">\\n                    TensorFlow.js\\n                  </a>\\n                </li>\\n                \\n                <li class=\"devsite-nav-item\">\\n                  <a class=\"devsite-nav-title\" href=\"https://www.tensorflow.org/lite/\">\\n                    TensorFlow Lite\\n                  </a>\\n                </li>\\n                \\n                <li class=\"devsite-nav-item\">\\n                  <a class=\"devsite-nav-title\" href=\"https://github.com/tensorflow/swift\">\\n                    Swift for TensorFlow\\n                  </a>\\n                </li>\\n                \\n              \\n            \\n              \\n                \\n                <li class=\"devsite-nav-item devsite-nav-item-heading\">\\n                  <span class=\"devsite-nav-title devsite-nav-title-no-path\">\\n                    Research\\n                  </span>\\n                </li>\\n                \\n                \\n                <li class=\"devsite-nav-item\">\\n                  <a class=\"devsite-nav-title\" href=\"https://www.tensorflow.org/tfrc/\">\\n                    Research Cloud\\n                  </a>\\n                </li>\\n                \\n                <li class=\"devsite-nav-item\">\\n                  <a class=\"devsite-nav-title\" href=\"https://github.com/tensorflow/models\">\\n                    Model Garden\\n                  </a>\\n                </li>\\n                \\n                <li class=\"devsite-nav-item\">\\n                  <a class=\"devsite-nav-title\" href=\"https://magenta.tensorflow.org\">\\n                    Magenta\\n                  </a>\\n                </li>\\n                \\n                <li class=\"devsite-nav-item\">\\n                  <a class=\"devsite-nav-title\" href=\"https://github.com/google/nucleus\">\\n                    Nucleus\\n                  </a>\\n                </li>\\n                \\n                <li class=\"devsite-nav-item\">\\n                  <a class=\"devsite-nav-title\" href=\"https://colab.research.google.com/notebooks/welcome.ipynb\">\\n                    Colab\\n                  </a>\\n                </li>\\n                \\n              \\n            \\n            </ul>\\n          </nav>\\n        </div>\\n      \\n    \\n  \\n</nav>\\n\\n\\n        <div class=\"devsite-main-content clearfix\">\\n\\n        \\n        \\n\\n        \\n  \\n  \\n    \\n    \\n\\n    \\n  \\n\\n\\n      <article class=\"devsite-article\">\\n        <article class=\"devsite-article-inner\">\\n  \\n          \\n  <section class=\"devsite-landing-row\\n                        devsite-landing-row-3-up\\n                        \\n                        \\n                        \"><div class=\"devsite-landing-row-group\"><div class=\"devsite-landing-row-item \\n  \\n  \\n  \\n\\n  \"><figure class=\"devsite-landing-row-item-image\\n            \"><img src=\"https://lh3.googleusercontent.com/I1Dpp7I9RZIGl0rVMlPfnhfl-bkl_2uDHZwVC87BWmqtPaAs1irMWOdJxTmTEQJB-VGfLryCyHxqvyNchVIVLL-vqGrF3Q=s688\"\\n        srcset=\"https://lh3.googleusercontent.com/I1Dpp7I9RZIGl0rVMlPfnhfl-bkl_2uDHZwVC87BWmqtPaAs1irMWOdJxTmTEQJB-VGfLryCyHxqvyNchVIVLL-vqGrF3Q=s688 1x,\\n                https://lh3.googleusercontent.com/I1Dpp7I9RZIGl0rVMlPfnhfl-bkl_2uDHZwVC87BWmqtPaAs1irMWOdJxTmTEQJB-VGfLryCyHxqvyNchVIVLL-vqGrF3Q=s688 2x\"></figure><div class=\"devsite-landing-row-item-description\\n                \"><h3 id=\"get-started-with-tensorflow\">Get started with TensorFlow</h3><div class=\"devsite-landing-row-item-description-content\">\\n        There are new tutorials to get started with Tensorflow using tf.keras and eager execution. Run the Colab notebooks directly in the browser.\\n\\n      </div><div class=\"devsite-landing-row-item-buttons\"><a\\n        \\n           href=\"https://www.tensorflow.org/tutorials/\"\\n        \\n        \\n           class=\"button button-white\"\\n        \\n        >\\n          Get Started\\n        </a></div></div></div><div class=\"devsite-landing-row-item \\n  \\n  \\n  \\n\\n  \"><figure class=\"devsite-landing-row-item-image\\n            \"><img src=\"https://lh3.googleusercontent.com/sM4KyImMxvAFmb2FfxyWoTN__kEqRG2T86Rl2Zgu35xqX0vk716LZA1jo5SycAt_W9Jpera5t6bWFPmdJ1leunThpO2sVw=s688\"\\n        srcset=\"https://lh3.googleusercontent.com/sM4KyImMxvAFmb2FfxyWoTN__kEqRG2T86Rl2Zgu35xqX0vk716LZA1jo5SycAt_W9Jpera5t6bWFPmdJ1leunThpO2sVw=s688 1x,\\n                https://lh3.googleusercontent.com/sM4KyImMxvAFmb2FfxyWoTN__kEqRG2T86Rl2Zgu35xqX0vk716LZA1jo5SycAt_W9Jpera5t6bWFPmdJ1leunThpO2sVw=s688 2x\"></figure><div class=\"devsite-landing-row-item-description\\n                \"><h3 id=\"tensorflow-110-is-here\">TensorFlow 1.10 is here!</h3><div class=\"devsite-landing-row-item-description-content\">\\n        TensorFlow&nbsp;1.10 is available, see the release notes for the latest updates.\\n\\n      </div><div class=\"devsite-landing-row-item-buttons\"><a\\n        \\n           href=\"https://github.com/tensorflow/tensorflow/releases/tag/v1.10.0\"\\n        \\n        \\n           class=\"button button-white\"\\n        \\n        >\\n          Learn More\\n        </a></div></div></div><div class=\"devsite-landing-row-item \\n  \\n  \\n  \\n\\n  \"><figure class=\"devsite-landing-row-item-image\\n            \"><img src=\"https://lh3.googleusercontent.com/Eo2WP7ZboDiYxQGG4tdhTH1ZcwpxpvYMXdOZb5cfwNhGkq3QFTY18Dx7xKyMPCvQ2IQF17qHcr4sqF3LfxEcTVyMxiB4guQ=s688\"\\n        srcset=\"https://lh3.googleusercontent.com/Eo2WP7ZboDiYxQGG4tdhTH1ZcwpxpvYMXdOZb5cfwNhGkq3QFTY18Dx7xKyMPCvQ2IQF17qHcr4sqF3LfxEcTVyMxiB4guQ=s688 1x,\\n                https://lh3.googleusercontent.com/Eo2WP7ZboDiYxQGG4tdhTH1ZcwpxpvYMXdOZb5cfwNhGkq3QFTY18Dx7xKyMPCvQ2IQF17qHcr4sqF3LfxEcTVyMxiB4guQ=s688 2x\"></figure><div class=\"devsite-landing-row-item-description\\n                \"><h3 id=\"announcing-tensorflowjs\">Announcing TensorFlow.js</h3><div class=\"devsite-landing-row-item-description-content\">\\n        Learn about our JavaScript library for machine learning in the browser.\\n\\n      </div><div class=\"devsite-landing-row-item-buttons\"><a\\n        \\n           href=\"https://js.tensorflow.org/\"\\n        \\n        \\n           class=\"button button-white\"\\n        \\n        >\\n          Learn More\\n        </a></div></div></div></div></section><section class=\"devsite-landing-row\\n                        devsite-landing-row-1-up\\n                        devsite-landing-row-large-headings devsite-landing-row-50\\n                        devsite-background devsite-background-grey\\n                        \"><header class=\"devsite-landing-row-header\"><div class=\"devsite-landing-row-header-text\"><h2 id=\"about-tensorflow\">About TensorFlow</h2></div></header><div class=\"devsite-landing-row-group\"><div class=\"devsite-landing-row-item \\n  \\n  \\n  \\n\\n  \"><div class=\"devsite-landing-row-item-media\"><div class=\"devsite-landing-row-item-youtube\"><iframe\\n        class=\"devsite-embedded-youtube-video\"\\n        data-video-id=\"mWl45NkFBOc\"\\n        data-autohide=\"1\"\\n        data-showinfo=\"0\"\\n        frameborder=\"0\"\\n        allowfullscreen=\"\"\\n        ></iframe></div></div><div class=\"devsite-landing-row-item-description\"><div class=\"devsite-landing-row-item-description-content\"><p>TensorFlow™ is an open source software library for high\\n    performance numerical computation. Its flexible architecture allows\\n    easy deployment of computation across a variety of platforms (CPUs,\\n    GPUs, TPUs), and from desktops to clusters of servers to mobile and\\n    edge devices. Originally developed by researchers and engineers from\\n    the Google Brain team within Google’s AI organization, it comes with\\n    strong support for machine learning and deep learning and the\\n    flexible numerical computation core is used across many other\\n    scientific domains.</p></div></div></div></div></section><section class=\"devsite-landing-row\\n                        devsite-landing-row-4-up\\n                        devsite-landing-row-logos\\n                        \\n                        \"><header class=\"devsite-landing-row-header\"><div class=\"devsite-landing-row-header-text\"><h2 id=\"companies-using-tensorflow\">Companies using TensorFlow</h2></div></header><div class=\"devsite-landing-row-group\"><div class=\"devsite-landing-row-item \\n  \\n  \\n  \\n\\n  \"><figure class=\"devsite-landing-row-item-image\\n               devsite-landing-row-item-custom-image\\n               \\n               \"><a href=\"https://www.airbnb.com\"\\n    ><img src=\"https://www.tensorflow.org/site-assets/images/partner-logos/airbnb.192.png\"\\n         class=\"devsite-landing-row-item-custom-image-icon\"></a></figure><div class=\"devsite-landing-row-item-description\\n                \"></div></div><div class=\"devsite-landing-row-item \\n  \\n  \\n  \\n\\n  \"><figure class=\"devsite-landing-row-item-image\\n               devsite-landing-row-item-custom-image\\n               \\n               \"><a href=\"https://www.amd.com\"\\n    ><img src=\"https://www.tensorflow.org/site-assets/images/partner-logos/amd.png\"\\n         class=\"devsite-landing-row-item-custom-image-icon\"></a></figure><div class=\"devsite-landing-row-item-description\\n                \"></div></div><div class=\"devsite-landing-row-item \\n  \\n  \\n  \\n\\n  \"><figure class=\"devsite-landing-row-item-image\\n               devsite-landing-row-item-custom-image\\n               \\n               \"><a href=\"https://nvidia.com\"\\n    ><img src=\"https://www.tensorflow.org/site-assets/images/partner-logos/nvidia.png\"\\n         class=\"devsite-landing-row-item-custom-image-icon\"></a></figure><div class=\"devsite-landing-row-item-description\\n                \"></div></div><div class=\"devsite-landing-row-item \\n  \\n  \\n  \\n\\n  \"><figure class=\"devsite-landing-row-item-image\\n               devsite-landing-row-item-custom-image\\n               \\n               \"><a href=\"https://www.uber.com\"\\n    ><img src=\"https://www.tensorflow.org/site-assets/images/partner-logos/uber.192.png\"\\n         class=\"devsite-landing-row-item-custom-image-icon\"></a></figure><div class=\"devsite-landing-row-item-description\\n                \"></div></div></div></section><section class=\"devsite-landing-row\\n                        devsite-landing-row-4-up\\n                        devsite-landing-row-logos\\n                        \\n                        \"><div class=\"devsite-landing-row-group\"><div class=\"devsite-landing-row-item \\n  \\n  \\n  \\n\\n  \"><figure class=\"devsite-landing-row-item-image\\n               devsite-landing-row-item-custom-image\\n               \\n               \"><a href=\"https://www.sap.com/index.html\"\\n    ><img src=\"https://www.tensorflow.org/site-assets/images/partner-logos/sap.192.png\"\\n         class=\"devsite-landing-row-item-custom-image-icon\"></a></figure><div class=\"devsite-landing-row-item-description\\n                \"></div></div><div class=\"devsite-landing-row-item \\n  \\n  \\n  \\n\\n  \"><figure class=\"devsite-landing-row-item-image\\n               devsite-landing-row-item-custom-image\\n               \\n               \"><a href=\"https://www.kakaocorp.com\"\\n    ><img src=\"https://www.tensorflow.org/site-assets/images/partner-logos/kakao.png\"\\n         class=\"devsite-landing-row-item-custom-image-icon\"></a></figure><div class=\"devsite-landing-row-item-description\\n                \"></div></div><div class=\"devsite-landing-row-item \\n  \\n  \\n  \\n\\n  \"><figure class=\"devsite-landing-row-item-image\\n               devsite-landing-row-item-custom-image\\n               \\n               \"><a href=\"https://deepmind.com\"\\n    ><img src=\"https://www.tensorflow.org/site-assets/images/partner-logos/deepmind.192.png\"\\n         class=\"devsite-landing-row-item-custom-image-icon\"></a></figure><div class=\"devsite-landing-row-item-description\\n                \"></div></div><div class=\"devsite-landing-row-item \\n  \\n  \\n  \\n\\n  \"><figure class=\"devsite-landing-row-item-image\\n               devsite-landing-row-item-custom-image\\n               \\n               \"><a href=\"https://dropbox.com\"\\n    ><img src=\"https://www.tensorflow.org/site-assets/images/partner-logos/dropbox.192.png\"\\n         class=\"devsite-landing-row-item-custom-image-icon\"></a></figure><div class=\"devsite-landing-row-item-description\\n                \"></div></div></div></section><section class=\"devsite-landing-row\\n                        devsite-landing-row-4-up\\n                        devsite-landing-row-logos\\n                        \\n                        \"><div class=\"devsite-landing-row-group\"><div class=\"devsite-landing-row-item \\n  \\n  \\n  \\n\\n  \"><figure class=\"devsite-landing-row-item-image\\n               devsite-landing-row-item-custom-image\\n               \\n               \"><a href=\"https://ebay.com\"\\n    ><img src=\"https://www.tensorflow.org/site-assets/images/partner-logos/ebay.192.png\"\\n         class=\"devsite-landing-row-item-custom-image-icon\"></a></figure><div class=\"devsite-landing-row-item-description\\n                \"></div></div><div class=\"devsite-landing-row-item \\n  \\n  \\n  \\n\\n  \"><figure class=\"devsite-landing-row-item-image\\n               devsite-landing-row-item-custom-image\\n               \\n               \"><a href=\"https://www.google.com\"\\n    ><img src=\"https://www.tensorflow.org/site-assets/images/partner-logos/google.192.png\"\\n         class=\"devsite-landing-row-item-custom-image-icon\"></a></figure><div class=\"devsite-landing-row-item-description\\n                \"></div></div><div class=\"devsite-landing-row-item \\n  \\n  \\n  \\n\\n  \"><figure class=\"devsite-landing-row-item-image\\n               devsite-landing-row-item-custom-image\\n               \\n               \"><a href=\"https://snapchat.com\"\\n    ><img src=\"https://www.tensorflow.org/site-assets/images/partner-logos/snapchat.192.png\"\\n         class=\"devsite-landing-row-item-custom-image-icon\"></a></figure><div class=\"devsite-landing-row-item-description\\n                \"></div></div><div class=\"devsite-landing-row-item \\n  \\n  \\n  \\n\\n  \"><figure class=\"devsite-landing-row-item-image\\n               devsite-landing-row-item-custom-image\\n               \\n               \"><a href=\"https://intel.com\"\\n    ><img src=\"https://www.tensorflow.org/site-assets/images/partner-logos/intel.192.png\"\\n         class=\"devsite-landing-row-item-custom-image-icon\"></a></figure><div class=\"devsite-landing-row-item-description\\n                \"></div></div></div></section><section class=\"devsite-landing-row\\n                        devsite-landing-row-4-up\\n                        devsite-landing-row-logos\\n                        \\n                        \"><div class=\"devsite-landing-row-group\"><div class=\"devsite-landing-row-item \\n  \\n  \\n  \\n\\n  \"><figure class=\"devsite-landing-row-item-image\\n               devsite-landing-row-item-custom-image\\n               \\n               \"><a href=\"https://coca-cola.com\"\\n    ><img src=\"https://www.tensorflow.org/site-assets/images/partner-logos/coca_cola.png\"\\n         class=\"devsite-landing-row-item-custom-image-icon\"></a></figure><div class=\"devsite-landing-row-item-description\\n                \"></div></div><div class=\"devsite-landing-row-item \\n  \\n  \\n  \\n\\n  \"><figure class=\"devsite-landing-row-item-image\\n               devsite-landing-row-item-custom-image\\n               \\n               \"><a href=\"https://www.mi.com/en/\"\\n    ><img src=\"https://www.tensorflow.org/site-assets/images/partner-logos/xiaomi.192.png\"\\n         class=\"devsite-landing-row-item-custom-image-icon\"></a></figure><div class=\"devsite-landing-row-item-description\\n                \"></div></div><div class=\"devsite-landing-row-item \\n  \\n  \\n  \\n\\n  \"><figure class=\"devsite-landing-row-item-image\\n               devsite-landing-row-item-custom-image\\n               \\n               \"><a href=\"https://www.qualcomm.com\"\\n    ><img src=\"https://www.tensorflow.org/site-assets/images/partner-logos/qualcomm.192.png\"\\n         class=\"devsite-landing-row-item-custom-image-icon\"></a></figure><div class=\"devsite-landing-row-item-description\\n                \"></div></div><div class=\"devsite-landing-row-item \\n  \\n  \\n  \\n\\n  \"><figure class=\"devsite-landing-row-item-image\\n               devsite-landing-row-item-custom-image\\n               \\n               \"><a href=\"https://twitter.com\"\\n    ><img src=\"https://www.tensorflow.org/site-assets/images/partner-logos/twitter.192.png\"\\n         class=\"devsite-landing-row-item-custom-image-icon\"></a></figure><div class=\"devsite-landing-row-item-description\\n                \"></div></div></div></section><section class=\"devsite-landing-row\\n                        devsite-landing-row-1-up\\n                        \\n                        \\n                        \"><header class=\"devsite-landing-row-header\"><div class=\"devsite-landing-row-header-text\"><p class=\"devsite-landing-row-description\"><section class=\"expandable devsite-landing-partner-logos\"><p class=\"expand-control showalways\"><span class=\"see-more-closed\">See More</span><span class=\"see-more-open\">See Less</span><span class=\"material-icons\">keyboard_arrow_down</span></p><section class=\"devsite-landing-logo-container\"><div class=\"devsite-landing-partner-logo\"><figure class=\"devsite-partner-logo devsite-landing-row-item-custom-image\"><a href=\"http://www.163.com/\"><img src=\"/site-assets/images/partner-logos/netease.jpg\" class=\"devsite-landing-row-item-custom-image-icon\" /></a></figure></div><div class=\"devsite-landing-partner-logo\"><figure class=\"devsite-partner-logo devsite-landing-row-item-custom-image\"><a href=\"https://www.360.cn/\"><img src=\"/site-assets/images/partner-logos/360.jpg\" class=\"devsite-landing-row-item-custom-image-icon\" /></a></figure></div><div class=\"devsite-landing-partner-logo\"><figure class=\"devsite-partner-logo devsite-landing-row-item-custom-image\"><a href=\"https://3dr.com/\"><img src=\"/site-assets/images/partner-logos/3D_robotics.png\" class=\"devsite-landing-row-item-custom-image-icon\" /></a></figure></div><div class=\"devsite-landing-partner-logo\"><figure class=\"devsite-partner-logo devsite-landing-row-item-custom-image\"><a href=\"http://ads.tencent.com/\"><img src=\"/site-assets/images/partner-logos/tencent.png\" class=\"devsite-landing-row-item-custom-image-icon\" /></a></figure></div></section><section class=\"devsite-landing-logo-container\"><div class=\"devsite-landing-partner-logo\"><figure class=\"devsite-partner-logo devsite-landing-row-item-custom-image\"><a href=\"http://www.airbus.com/\"><img src=\"/site-assets/images/partner-logos/airbus.192.png\" class=\"devsite-landing-row-item-custom-image-icon\" /></a></figure></div><div class=\"devsite-landing-partner-logo\"><figure class=\"devsite-partner-logo devsite-landing-row-item-custom-image\"><a href=\"https://www.arm.com/\"><img src=\"/site-assets/images/partner-logos/arm.192.png\" class=\"devsite-landing-row-item-custom-image-icon\" /></a></figure></div><div class=\"devsite-landing-partner-logo\"><figure class=\"devsite-partner-logo devsite-landing-row-item-custom-image\"><a href=\"https://www.bhge.com/products-services/digital\"><img src=\"/site-assets/images/partner-logos/bhge.png\" class=\"devsite-landing-row-item-custom-image-icon\" /></a></figure></div><div class=\"devsite-landing-partner-logo\"><figure class=\"devsite-partner-logo devsite-landing-row-item-custom-image\"><a href=\"https://www.techatbloomberg.com/\"><img src=\"/site-assets/images/partner-logos/bloomberg.png\" class=\"devsite-landing-row-item-custom-image-icon\" /></a></figure></div></section><section class=\"devsite-landing-logo-container\"><div class=\"devsite-landing-partner-logo\"><figure class=\"devsite-partner-logo devsite-landing-row-item-custom-image\"><a href=\"https://caicloud.io/\"><img src=\"/site-assets/images/partner-logos/caicloud.jpg\" class=\"devsite-landing-row-item-custom-image-icon\" /></a></figure></div><div class=\"devsite-landing-partner-logo\"><figure class=\"devsite-partner-logo devsite-landing-row-item-custom-image\"><a href=\"https://castbox.fm/\"><img src=\"/site-assets/images/partner-logos/castbox.jpg\" class=\"devsite-landing-row-item-custom-image-icon\" /></a></figure></div><div class=\"devsite-landing-partner-logo\"><figure class=\"devsite-partner-logo devsite-landing-row-item-custom-image\"><a href=\"https://www.ceva-dsp.com/\"><img src=\"/site-assets/images/partner-logos/ceva.192.png\" class=\"devsite-landing-row-item-custom-image-icon\" /></a></figure></div><div class=\"devsite-landing-partner-logo\"><figure class=\"devsite-partner-logo devsite-landing-row-item-custom-image\"><a href=\"https://us.ciandt.com/\"><img src=\"/site-assets/images/partner-logos/cit.192.png\" class=\"devsite-landing-row-item-custom-image-icon\" /></a></figure></div></section><section class=\"devsite-landing-logo-container\"><div class=\"devsite-landing-partner-logo\"><figure class=\"devsite-partner-logo devsite-landing-row-item-custom-image\"><a href=\"https://www.cmcm.com/\"><img src=\"/site-assets/images/partner-logos/cheetah.jpg\" class=\"devsite-landing-row-item-custom-image-icon\" /></a></figure></div><div class=\"devsite-landing-partner-logo\"><figure class=\"devsite-partner-logo devsite-landing-row-item-custom-image\"><a href=\"https://www.ibm.com/\"><img src=\"/site-assets/images/partner-logos/ibm.192.png\" class=\"devsite-landing-row-item-custom-image-icon\" /></a></figure></div><div class=\"devsite-landing-partner-logo\"><figure class=\"devsite-partner-logo devsite-landing-row-item-custom-image\"><a href=\"https://www.jd.com/\"><img src=\"/site-assets/images/partner-logos/jd.192.png\" class=\"devsite-landing-row-item-custom-image-icon\" /></a></figure></div><div class=\"devsite-landing-partner-logo\"><figure class=\"devsite-partner-logo devsite-landing-row-item-custom-image\"><a href=\"http://www.kikatech.com/\"><img src=\"/site-assets/images/partner-logos/kikatech.png\" class=\"devsite-landing-row-item-custom-image-icon\" /></a></figure></div></section><section class=\"devsite-landing-logo-container\"><div class=\"devsite-landing-partner-logo\"><figure class=\"devsite-partner-logo devsite-landing-row-item-custom-image\"><a href=\"https://www.lenovo.com/\"><img src=\"/site-assets/images/partner-logos/lenovo.jpg\" class=\"devsite-landing-row-item-custom-image-icon\" /></a></figure></div><div class=\"devsite-landing-partner-logo\"><figure class=\"devsite-partner-logo devsite-landing-row-item-custom-image\"><a href=\"https://www.linkedin.com/\"><img src=\"/site-assets/images/partner-logos/linkedin.png\" class=\"devsite-landing-row-item-custom-image-icon\" /></a></figure></div><div class=\"devsite-landing-partner-logo\"><figure class=\"devsite-partner-logo devsite-landing-row-item-custom-image\"><a href=\"https://www.liulishuo.com/\"><img src=\"/site-assets/images/partner-logos/liulishuo.jpg\" class=\"devsite-landing-row-item-custom-image-icon\" /></a></figure></div><div class=\"devsite-landing-partner-logo\"><figure class=\"devsite-partner-logo devsite-landing-row-item-custom-image\"><a href=\"https://www.matroid.com/\"><img src=\"/site-assets/images/partner-logos/matroid.png\" class=\"devsite-landing-row-item-custom-image-icon\" /></a></figure></div></section><section class=\"devsite-landing-logo-container\"><div class=\"devsite-landing-partner-logo\"><figure class=\"devsite-partner-logo devsite-landing-row-item-custom-image\"><a href=\"https://www.mediatek.com/\"><img src=\"/site-assets/images/partner-logos/mediatek.png\" class=\"devsite-landing-row-item-custom-image-icon\" /></a></figure></div><div class=\"devsite-landing-partner-logo\"><figure class=\"devsite-partner-logo devsite-landing-row-item-custom-image\"><a href=\"https://www.mobvoi.com/\"><img src=\"/site-assets/images/partner-logos/mobvoi.jpg\" class=\"devsite-landing-row-item-custom-image-icon\" /></a></figure></div><div class=\"devsite-landing-partner-logo\"><figure class=\"devsite-partner-logo devsite-landing-row-item-custom-image\"><a href=\"https://www.movidius.com/\"><img src=\"/site-assets/images/partner-logos/movidius.192.png\" class=\"devsite-landing-row-item-custom-image-icon\" /></a></figure></div><div class=\"devsite-landing-partner-logo\"><figure class=\"devsite-partner-logo devsite-landing-row-item-custom-image\"><a href=\"https://www.musical.ly/\"><img src=\"/site-assets/images/partner-logos/musically.jpg\" class=\"devsite-landing-row-item-custom-image-icon\" /></a></figure></div></section><section class=\"devsite-landing-logo-container\"><div class=\"devsite-landing-partner-logo\"><figure class=\"devsite-partner-logo devsite-landing-row-item-custom-image\"><a href=\"https://www.nersc.gov/\"><img src=\"/site-assets/images/partner-logos/nersc.png\" class=\"devsite-landing-row-item-custom-image-icon\" /></a></figure></div><div class=\"devsite-landing-partner-logo\"><figure class=\"devsite-partner-logo devsite-landing-row-item-custom-image\"><a href=\"https://www.quantiphi.com/\"><img src=\"/site-assets/images/partner-logos/quantiphi.192.png\" class=\"devsite-landing-row-item-custom-image-icon\" /></a></figure></div><div class=\"devsite-landing-partner-logo\"><figure class=\"devsite-partner-logo devsite-landing-row-item-custom-image\"><a href=\"http://www.sinovationventures.com/\"><img src=\"/site-assets/images/partner-logos/sinovation.jpg\" class=\"devsite-landing-row-item-custom-image-icon\" /></a></figure></div><div class=\"devsite-landing-partner-logo\"><figure class=\"devsite-partner-logo devsite-landing-row-item-custom-image\"><a href=\"https://www.sogou.com/\"><img src=\"/site-assets/images/partner-logos/sogou.png\" class=\"devsite-landing-row-item-custom-image-icon\" /></a></figure></div></section><section class=\"devsite-landing-logo-container\"><div class=\"devsite-landing-partner-logo\"><figure class=\"devsite-partner-logo devsite-landing-row-item-custom-image\"><a href=\"https://www.unisound.com/\"><img src=\"/site-assets/images/partner-logos/unisound.jpg\" class=\"devsite-landing-row-item-custom-image-icon\" /></a></figure></div><div class=\"devsite-landing-partner-logo\"></div><div class=\"devsite-landing-partner-logo\"></div><div class=\"devsite-landing-partner-logo\"></div></section></p></div></header></section>\\n\\n  \\n        \\n  \\n\\n\\n\\n\\n\\n\\n\\n        \\n        </article>\\n      </article>\\n  \\n\\n        </div>\\n      \\n\\n<footer class=\"devsite-footer-linkboxes nocontent\\n               devsite-footer-linkboxes-all-backup\\n               \"><nav class=\"devsite-full-site-width\"><ul class=\"devsite-footer-linkboxes-list\"><li class=\"devsite-footer-linkbox devsite-footer-linkbox-backup\"><h3 class=\"devsite-footer-linkbox-heading\">Stay Connected</h3><ul class=\"devsite-footer-linkbox-list\"><li class=\"devsite-footer-linkbox-item\"><a href=\"//medium.com/tensorflow\"\\n               class=\"gc-analytics-event\"\\n               data-category=\"Site-Wide Custom Events\"\\n               data-label=\"Footer Blog Link\"\\n               >\\n                Blog\\n            </a></li><li class=\"devsite-footer-linkbox-item\"><a href=\"//github.com/tensorflow/\"\\n               class=\"gc-analytics-event\"\\n               data-category=\"Site-Wide Custom Events\"\\n               data-label=\"Footer GitHub Link\"\\n               >\\n                GitHub\\n            </a></li><li class=\"devsite-footer-linkbox-item\"><a href=\"//twitter.com/tensorflow\"\\n               class=\"gc-analytics-event\"\\n               data-category=\"Site-Wide Custom Events\"\\n               data-label=\"Footer Twitter Link\"\\n               >\\n                Twitter\\n            </a></li><li class=\"devsite-footer-linkbox-item\"><a href=\"//youtube.com/tensorflow\"\\n               class=\"gc-analytics-event\"\\n               data-category=\"Site-Wide Custom Events\"\\n               data-label=\"Footer YouTube Link\"\\n               >\\n                YouTube\\n            </a></li></ul></li><li class=\"devsite-footer-linkbox devsite-footer-linkbox-backup\"><h3 class=\"devsite-footer-linkbox-heading\">Support</h3><ul class=\"devsite-footer-linkbox-list\"><li class=\"devsite-footer-linkbox-item\"><a href=\"//github.com/tensorflow/tensorflow/issues\"\\n               class=\"gc-analytics-event\"\\n               data-category=\"Site-Wide Custom Events\"\\n               data-label=\"Footer Issue Tracker Link\"\\n               >\\n                Issue Tracker\\n            </a></li><li class=\"devsite-footer-linkbox-item\"><a href=\"//github.com/tensorflow/tensorflow/blob/master/RELEASE.md\"\\n               class=\"gc-analytics-event\"\\n               data-category=\"Site-Wide Custom Events\"\\n               data-label=\"Footer Release Notes Link\"\\n               >\\n                Release Notes\\n            </a></li><li class=\"devsite-footer-linkbox-item\"><a href=\"//stackoverflow.com/questions/tagged/tensorflow\"\\n               class=\"gc-analytics-event\"\\n               data-category=\"Site-Wide Custom Events\"\\n               data-label=\"Footer Stack Overflow Link\"\\n               >\\n                Stack Overflow\\n            </a></li></ul></li></ul></nav></footer><footer class=\"devsite-utility-footer\"><nav class=\"devsite-utility-footer-nav devsite-nav devsite-full-site-width\"><div class=\"devsite-utility-footer-nav-left\"><form class=\"devsite-utility-footer-language\" action=\"https://www.tensorflow.org/i18n/setlang/\"\\n            method=\"post\"><input type=\"hidden\" name=\"xsrf_token\" value=\"W7TaZlC7x6eKW8xDZUdYYF8VeaPRzDdw6dILfCUd7zw6MTUzODU4Njg5NTM0Nzk1NA\" /><input type=\"hidden\" name=\"next\" value=\"/\"><select class=\"devsite-utility-footer-language-select kd-select\" name=\"language\"\\n                track-type=\"languageSelector\" track-name=\"click\"><option value=\"id\"\\n                \\n                track-type=\"languageSelector\" track-name=\"changed\"\\n                track-metadata-original-language=\"en\"\\n                track-metadata-selected-language=\"id\">\\n            Bahasa Indonesia\\n          </option><option value=\"en\"\\n                 selected=\"selected\" \\n                track-type=\"languageSelector\" track-name=\"changed\"\\n                track-metadata-original-language=\"en\"\\n                track-metadata-selected-language=\"en\">\\n            English\\n          </option><option value=\"es\"\\n                \\n                track-type=\"languageSelector\" track-name=\"changed\"\\n                track-metadata-original-language=\"en\"\\n                track-metadata-selected-language=\"es\">\\n            español\\n          </option><option value=\"pt-br\"\\n                \\n                track-type=\"languageSelector\" track-name=\"changed\"\\n                track-metadata-original-language=\"en\"\\n                track-metadata-selected-language=\"pt-br\">\\n            Português Brasileiro\\n          </option><option value=\"ja\"\\n                \\n                track-type=\"languageSelector\" track-name=\"changed\"\\n                track-metadata-original-language=\"en\"\\n                track-metadata-selected-language=\"ja\">\\n            日本語\\n          </option><option value=\"zh-cn\"\\n                \\n                track-type=\"languageSelector\" track-name=\"changed\"\\n                track-metadata-original-language=\"en\"\\n                track-metadata-selected-language=\"zh-cn\">\\n            简体中文\\n          </option><option value=\"ko\"\\n                \\n                track-type=\"languageSelector\" track-name=\"changed\"\\n                track-metadata-original-language=\"en\"\\n                track-metadata-selected-language=\"ko\">\\n            한국어\\n          </option></select></form><span class=\"devsite-utility-footer-links\"><a class=\"devsite-utility-footer-link gc-analytics-event\"\\n           href=\"https://policies.google.com/terms\"\\n           data-category=\"Site-Wide Custom Events\"\\n           data-label=\"Footer terms link\"\\n           data-footer-link-id=\"terms\"\\n           >Terms\\n         </a><a class=\"devsite-utility-footer-link gc-analytics-event\"\\n           href=\"https://policies.google.com/privacy\"\\n           data-category=\"Site-Wide Custom Events\"\\n           data-label=\"Footer privacy link\"\\n           data-footer-link-id=\"privacy\"\\n           >Privacy\\n         </a></span></div></nav></footer></div><script async defer src=\"//www.gstatic.com/feedback/api.js\"></script><script src=\"https://www.tensorflow.org/_static2/1e1304016d/jsi18n/\"></script><script src=\"https://www.tensorflow.org/_static/1e1304016d/js/script_foot_closure.js\"></script><script src=\"https://www.tensorflow.org/_static/1e1304016d/js/script_foot.js\"></script><script>\\n        (function($) {\\n          \\n          devsite.devsite.Init($, {\\'ENABLE_BLOCKED_VIDEO_PLACEHOLDER\\': 0, \\'SITE_NAME\\': \\'tensorflow\\', \\'FULL_SITE_SEARCH_ENABLED\\': 1, \\'ENABLE_CLOUDTRACK\\': 0, \\'VTAGS_ENABLED\\': 0, \\'HISTORY_ENABLED\\': 0, \\'SIDEBAR_MINI_ENABLED\\': 0, \\'VERSION_HASH\\': \\'1e1304016d\\', \\'SCRIPTSAFE_DOMAIN\\': \\'tensorflow-dot-google-developers.appspot.com\\', \\'ENABLE_BLOCKED_LINK_TOOLTIP\\': 0, \\'ALLOWED_HOSTS\\': [\\'.android.com\\', \\'.appspot.com\\', \\'.gonglchuangl.net\\', \\'.google.cn\\', \\'.google.com\\', \\'.googleplex.com\\', \\'.tensorflow.org\\', \\'.devsitetest.how\\'], \\'BLOCK_RSS_FEEDS\\': 0},\\n                               \\'[]\\',\\'en\\',\\n                               true, \\'\\',\\n                               {\"f62218c009ec029abef196bba5aa34cf\": true, \"8de7a048f21618359bd37f5ce44be073\": false, \"098dafe57affddc137df300142652cfd\": false, \"8e03e230de0bd8a6fe173fdf172e8b3f\": true, \"cb025a64a50094835616312f4774a53d\": true, \"51470233c56fc1fde50f00b73c52b216\": false, \"d169d485cf24243a263783dbe42029b1\": true, \"039e5d84b87fd75807ffb37b7f1bbf2c\": true, \"700def1a83e356c06c0925afb05de4b0\": false, \"6749dcb526ce9bde6993550c7d928d24\": true}, \\'/\\',\\n                               \\'https://www.tensorflow.org/\\');\\n        })(jQuery);\\n\\n        \\n        devsite.localInit = function() {\\n          \\n        };\\n\\n      </script><script>\\n      $(\\'.devsite-utility-footer-language-select\\').each(function() {\\n        $(this).change(function(){$(\\'.devsite-utility-footer-language\\').submit();});\\n      });\\n      </script></div><span id=\"devsite-request-elapsed\" data-request-elapsed=\"325.94704628\"></span></body></html>\\n'"
      ]
     },
     "execution_count": 13,
     "metadata": {},
     "output_type": "execute_result"
    }
   ],
   "source": [
    "res.text"
   ]
  },
  {
   "cell_type": "code",
   "execution_count": 3,
   "metadata": {},
   "outputs": [],
   "source": [
    "import bs4"
   ]
  },
  {
   "cell_type": "code",
   "execution_count": 15,
   "metadata": {},
   "outputs": [],
   "source": [
    "soup=bs4.BeautifulSoup(res.text,'lxml')"
   ]
  },
  {
   "cell_type": "code",
   "execution_count": 34,
   "metadata": {},
   "outputs": [],
   "source": [
    "a=soup.select(\"title\")[0].getText()"
   ]
  },
  {
   "cell_type": "code",
   "execution_count": 35,
   "metadata": {},
   "outputs": [
    {
     "data": {
      "text/plain": [
       "'TensorFlow'"
      ]
     },
     "execution_count": 35,
     "metadata": {},
     "output_type": "execute_result"
    }
   ],
   "source": [
    "a"
   ]
  },
  {
   "cell_type": "code",
   "execution_count": 59,
   "metadata": {},
   "outputs": [
    {
     "data": {
      "text/plain": [
       "str"
      ]
     },
     "execution_count": 59,
     "metadata": {},
     "output_type": "execute_result"
    }
   ],
   "source": [
    "type(a)"
   ]
  },
  {
   "cell_type": "code",
   "execution_count": 125,
   "metadata": {},
   "outputs": [],
   "source": [
    "res1=requests.get(\"https://www.hackerrank.com/leaderboard?page=2\")"
   ]
  },
  {
   "cell_type": "code",
   "execution_count": 126,
   "metadata": {},
   "outputs": [],
   "source": [
    "soup1=bs4.BeautifulSoup(res1.text,'lxml')"
   ]
  },
  {
   "cell_type": "code",
   "execution_count": 127,
   "metadata": {},
   "outputs": [],
   "source": [
    "name=soup1.select(\"a\")"
   ]
  },
  {
   "cell_type": "code",
   "execution_count": 128,
   "metadata": {},
   "outputs": [
    {
     "data": {
      "text/plain": [
       "71"
      ]
     },
     "execution_count": 128,
     "metadata": {},
     "output_type": "execute_result"
    }
   ],
   "source": [
    "len(name)"
   ]
  },
  {
   "cell_type": "code",
   "execution_count": 129,
   "metadata": {},
   "outputs": [
    {
     "name": "stdout",
     "output_type": "stream",
     "text": [
      "Xellos0\n",
      "Gullesnuffs\n",
      "mugurelionut\n",
      "ivan100sic\n",
      "chemthan\n",
      "wesnerm\n",
      "kcm1700\n",
      "y0105w49\n",
      "dacin21\n",
      "nazarbek_altybay\n",
      "AlCash\n",
      "Cydiater\n",
      "jeru\n",
      "iafir\n",
      "pat42smith\n",
      "arsijo\n",
      "whfym\n",
      "muratekici\n",
      "kraskevich\n",
      "radoslav11\n"
     ]
    }
   ],
   "source": [
    "for i in range(30,50):\n",
    "    n=name[i]\n",
    "    print(n['data-value'])"
   ]
  },
  {
   "cell_type": "code",
   "execution_count": 109,
   "metadata": {},
   "outputs": [],
   "source": [
    "n=name[30]\n"
   ]
  },
  {
   "cell_type": "code",
   "execution_count": 107,
   "metadata": {},
   "outputs": [
    {
     "data": {
      "text/plain": [
       "<a class=\"\" data-action=\"hacker-modal\" data-analytics=\"LeaderboardListUserName\" data-attr1=\"uwi\" data-attr10=\"3007.28\" data-attr7=\"1\" data-attr8=\"1\" data-value=\"uwi\" href=\"/profile/uwi\" target=\"_blank\" username=\"uwi\">uwi</a>"
      ]
     },
     "execution_count": 107,
     "metadata": {},
     "output_type": "execute_result"
    }
   ],
   "source": [
    "n"
   ]
  },
  {
   "cell_type": "code",
   "execution_count": 4,
   "metadata": {},
   "outputs": [],
   "source": [
    "from openpyxl import Workbook\n",
    "from openpyxl import load_workbook\n",
    "wb = load_workbook('test.xlsx')\n",
    "ws = wb[\"Sheet1\"]\n",
    "for i in range(1,5):\n",
    "    temp=str(i)\n",
    "    res1=requests.get(\"https://www.hackerrank.com/leaderboard?page=\"+temp)\n",
    "    soup1=bs4.BeautifulSoup(res1.text,'lxml')\n",
    "    name=soup1.select(\"a\")\n",
    "    name1=soup1.select(\".score\")\n",
    "    name2=soup1.select(\".rank\")\n",
    "    for item2 in name2:\n",
    "        ws.append([\"\",\"\",item2.text]) \n",
    "    for item1 in name1:\n",
    "        ws.append([\"\",item1.text])\n",
    "    for i in range(30,50):\n",
    "        n=name[i]\n",
    "        ws.append([n['data-value']])\n",
    "wb.save(\"test.xlsx\")"
   ]
  },
  {
   "cell_type": "code",
   "execution_count": 5,
   "metadata": {},
   "outputs": [],
   "source": [
    "image=requests.get(\"http://www.artificialbrain.xyz/what-is-deep-learning/\")"
   ]
  },
  {
   "cell_type": "code",
   "execution_count": 6,
   "metadata": {},
   "outputs": [
    {
     "data": {
      "text/plain": [
       "<Response [200]>"
      ]
     },
     "execution_count": 6,
     "metadata": {},
     "output_type": "execute_result"
    }
   ],
   "source": [
    "image"
   ]
  },
  {
   "cell_type": "code",
   "execution_count": 7,
   "metadata": {},
   "outputs": [],
   "source": [
    "sp=bs4.BeautifulSoup(image.text,\"lxml\")"
   ]
  },
  {
   "cell_type": "code",
   "execution_count": 11,
   "metadata": {},
   "outputs": [
    {
     "data": {
      "text/plain": [
       "list"
      ]
     },
     "execution_count": 11,
     "metadata": {},
     "output_type": "execute_result"
    }
   ],
   "source": [
    "type(sp.select(\"img\"))"
   ]
  },
  {
   "cell_type": "code",
   "execution_count": 13,
   "metadata": {},
   "outputs": [
    {
     "data": {
      "text/plain": [
       "47"
      ]
     },
     "execution_count": 13,
     "metadata": {},
     "output_type": "execute_result"
    }
   ],
   "source": [
    "len(sp.select(\"img\"))"
   ]
  },
  {
   "cell_type": "code",
   "execution_count": 15,
   "metadata": {},
   "outputs": [],
   "source": [
    "a=sp.select(\"img\")"
   ]
  },
  {
   "cell_type": "code",
   "execution_count": 17,
   "metadata": {},
   "outputs": [],
   "source": [
    "c=a[0]"
   ]
  },
  {
   "cell_type": "code",
   "execution_count": 18,
   "metadata": {},
   "outputs": [
    {
     "data": {
      "text/plain": [
       "'http://www.artificialbrain.xyz/wp-content/uploads/artificiallogo2.png'"
      ]
     },
     "execution_count": 18,
     "metadata": {},
     "output_type": "execute_result"
    }
   ],
   "source": [
    "c['src']"
   ]
  },
  {
   "cell_type": "code",
   "execution_count": 19,
   "metadata": {},
   "outputs": [],
   "source": [
    "img_req=requests.get(c[\"src\"])"
   ]
  },
  {
   "cell_type": "code",
   "execution_count": 20,
   "metadata": {},
   "outputs": [
    {
     "data": {
      "text/plain": [
       "<Response [200]>"
      ]
     },
     "execution_count": 20,
     "metadata": {},
     "output_type": "execute_result"
    }
   ],
   "source": [
    "img_req"
   ]
  },
  {
   "cell_type": "code",
   "execution_count": 23,
   "metadata": {},
   "outputs": [
    {
     "data": {
      "text/plain": [
       "b'\\x89PNG\\r\\n\\x1a\\n\\x00\\x00\\x00\\rIHDR\\x00\\x00\\x00\\xfa\\x00\\x00\\x00:\\x08\\x06\\x00\\x00\\x00\\x99\\x04D\\x89\\x00\\x00\\x00\\tpHYs\\x00\\x00\\x0b\\x13\\x00\\x00\\x0b\\x13\\x01\\x00\\x9a\\x9c\\x18\\x00\\x00\\nOiCCPPhotoshop ICC profile\\x00\\x00x\\xda\\x9dSgTS\\xe9\\x16=\\xf7\\xde\\xf4BK\\x88\\x80\\x94KoR\\x15\\x08 RB\\x8b\\x80\\x14\\x91&*!\\t\\x10J\\x88!\\xa1\\xd9\\x15Q\\xc1\\x11EE\\x04\\x1b\\xc8\\xa0\\x88\\x03\\x8e\\x8e\\x80\\x8c\\x15Q,\\x0c\\x8a\\n\\xd8\\x07\\xe4!\\xa2\\x8e\\x83\\xa3\\x88\\x8a\\xca\\xfb\\xe1{\\xa3k\\xd6\\xbc\\xf7\\xe6\\xcd\\xfe\\xb5\\xd7>\\xe7\\xac\\xf3\\x9d\\xb3\\xcf\\x07\\xc0\\x08\\x0c\\x96H3Q5\\x80\\x0c\\xa9B\\x1e\\x11\\xe0\\x83\\xc7\\xc4\\xc6\\xe1\\xe4.@\\x81\\n$p\\x00\\x10\\x08\\xb3d!s\\xfd#\\x01\\x00\\xf8~<<+\"\\xc0\\x07\\xbe\\x00\\x01x\\xd3\\x0b\\x08\\x00\\xc0M\\x9b\\xc00\\x1c\\x87\\xff\\x0f\\xeaB\\x99\\\\\\x01\\x80\\x84\\x01\\xc0t\\x918K\\x08\\x80\\x14\\x00@z\\x8eB\\xa6\\x00@F\\x01\\x80\\x9d\\x98&S\\x00\\xa0\\x04\\x00`\\xcbcb\\xe3\\x00P-\\x00`\\'\\x7f\\xe6\\xd3\\x00\\x80\\x9d\\xf8\\x99{\\x01\\x00[\\x94!\\x15\\x01\\xa0\\x91\\x00 \\x13e\\x88D\\x00h;\\x00\\xac\\xcfV\\x8aE\\x00X0\\x00\\x14fK\\xc49\\x00\\xd8-\\x000IWfH\\x00\\xb0\\xb7\\x00\\xc0\\xce\\x10\\x0b\\xb2\\x00\\x08\\x0c\\x000Q\\x88\\x85)\\x00\\x04{\\x00`\\xc8##x\\x00\\x84\\x99\\x00\\x14F\\xf2W<\\xf1+\\xae\\x10\\xe7*\\x00\\x00x\\x99\\xb2<\\xb9$9E\\x81[\\x08-q\\x07WW.\\x1e(\\xceI\\x17+\\x146a\\x02a\\x9a@.\\xc2y\\x99\\x192\\x814\\x0f\\xe0\\xf3\\xcc\\x00\\x00\\xa0\\x91\\x15\\x11\\xe0\\x83\\xf3\\xfdx\\xce\\x0e\\xae\\xce\\xce6\\x8e\\xb6\\x0e_-\\xea\\xbf\\x06\\xff\"bb\\xe3\\xfe\\xe5\\xcf\\xabp@\\x00\\x00\\xe1t~\\xd1\\xfe,/\\xb3\\x1a\\x80;\\x06\\x80m\\xfe\\xa2%\\xee\\x04h^\\x0b\\xa0u\\xf7\\x8bf\\xb2\\x0f@\\xb5\\x00\\xa0\\xe9\\xdaW\\xf3p\\xf8~<<E\\xa1\\x90\\xb9\\xd9\\xd9\\xe5\\xe4\\xe4\\xd8J\\xc4B[a\\xcaW}\\xfeg\\xc2_\\xc0W\\xfdl\\xf9~<\\xfc\\xf7\\xf5\\xe0\\xbe\\xe2$\\x812]\\x81G\\x04\\xf8\\xe0\\xc2\\xcc\\xf4L\\xa5\\x1c\\xcf\\x92\\t\\x84b\\xdc\\xe6\\x8fG\\xfc\\xb7\\x0b\\xff\\xfc\\x1d\\xd3\"\\xc4Ib\\xb9X*\\x14\\xe3Q\\x12q\\x8eD\\x9a\\x8c\\xf32\\xa5\"\\x89B\\x92)\\xc5%\\xd2\\xffd\\xe2\\xdf,\\xfb\\x03>\\xdf5\\x00\\xb0j>\\x01{\\x91-\\xa8]c\\x03\\xf6K\\'\\x10Xt\\xc0\\xe2\\xf7\\x00\\x00\\xf2\\xbbo\\xc1\\xd4(\\x08\\x03\\x80h\\x83\\xe1\\xcfw\\xff\\xef?\\xfdG\\xa0%\\x00\\x80fI\\x92q\\x00\\x00^D$.T\\xca\\xb3?\\xc7\\x08\\x00\\x00D\\xa0\\x81*\\xb0A\\x1b\\xf4\\xc1\\x18,\\xc0\\x06\\x1c\\xc1\\x05\\xdc\\xc1\\x0b\\xfc`6\\x84B$\\xc4\\xc2B\\x10B\\nd\\x80\\x1cr`)\\xac\\x82B(\\x86\\xcd\\xb0\\x1d*`/\\xd4@\\x1d4\\xc0Qh\\x86\\x93p\\x0e.\\xc2U\\xb8\\x0e=p\\x0f\\xfaa\\x08\\x9e\\xc1(\\xbc\\x81\\t\\x04A\\xc8\\x08\\x13a!\\xda\\x88\\x01b\\x8aX#\\x8e\\x08\\x17\\x99\\x85\\xf8!\\xc1H\\x04\\x12\\x8b$ \\xc9\\x88\\x14Q\"K\\x915H1R\\x8aT UH\\x1d\\xf2=r\\x029\\x87\\\\F\\xba\\x91;\\xc8\\x002\\x82\\xfc\\x86\\xbcG1\\x94\\x81\\xb2Q=\\xd4\\x0c\\xb5C\\xb9\\xa87\\x1a\\x84F\\xa2\\x0b\\xd0dt1\\x9a\\x8f\\x16\\xa0\\x9b\\xd0r\\xb4\\x1a=\\x8c6\\xa1\\xe7\\xd0\\xabh\\x0f\\xda\\x8f>C\\xc70\\xc0\\xe8\\x18\\x073\\xc4l0.\\xc6\\xc3B\\xb18,\\t\\x93c\\xcb\\xb1\"\\xac\\x0c\\xab\\xc6\\x1a\\xb0V\\xac\\x03\\xbb\\x89\\xf5c\\xcf\\xb1w\\x04\\x12\\x81E\\xc0\\t6\\x04wB a\\x1eAHXLXN\\xd8H\\xa8 \\x1c$4\\x11\\xda\\t7\\t\\x03\\x84Q\\xc2\\'\"\\x93\\xa8K\\xb4&\\xba\\x11\\xf9\\xc4\\x18b21\\x87XH,#\\xd6\\x12\\x8f\\x13/\\x10{\\x88C\\xc47$\\x12\\x89C2\\'\\xb9\\x90\\x02I\\xb1\\xa4T\\xd2\\x12\\xd2F\\xd2nR#\\xe9,\\xa9\\x9b4H\\x1a#\\x93\\xc9\\xdadk\\xb2\\x079\\x94, +\\xc8\\x85\\xe4\\x9d\\xe4\\xc3\\xe43\\xe4\\x1b\\xe4!\\xf2[\\n\\x9db@q\\xa4\\xf8S\\xe2(R\\xcajJ\\x19\\xe5\\x10\\xe54\\xe5\\x06e\\x982AU\\xa3\\x9aR\\xdd\\xa8\\xa1T\\x115\\x8fZB\\xad\\xa1\\xb6R\\xafQ\\x87\\xa8\\x134u\\x9a9\\xcd\\x83\\x16IK\\xa5\\xad\\xa2\\x95\\xd3\\x1ah\\x17h\\xf7i\\xaf\\xe8t\\xba\\x11\\xdd\\x95\\x1eN\\x97\\xd0W\\xd2\\xcb\\xe9G\\xe8\\x97\\xe8\\x03\\xf4w\\x0c\\r\\x86\\x15\\x83\\xc7\\x88g(\\x19\\x9b\\x18\\x07\\x18g\\x19w\\x18\\xaf\\x98L\\xa6\\x19\\xd3\\x8b\\x19\\xc7T071\\xeb\\x98\\xe7\\x99\\x0f\\x99oUX*\\xb6*|\\x15\\x91\\xca\\n\\x95J\\x95&\\x95\\x1b*/T\\xa9\\xaa\\xa6\\xaa\\xde\\xaa\\x0bU\\xf3U\\xcbT\\x8f\\xa9^S}\\xaeFU3S\\xe3\\xa9\\t\\xd4\\x96\\xabU\\xaa\\x9dP\\xebS\\x1bSg\\xa9;\\xa8\\x87\\xaag\\xa8oT?\\xa4~Y\\xfd\\x89\\x06Y\\xc3L\\xc3OC\\xa4Q\\xa0\\xb1_\\xe3\\xbc\\xc6 \\x0bc\\x19\\xb3x,!k\\r\\xab\\x86u\\x815\\xc4&\\xb1\\xcd\\xd9|v*\\xbb\\x98\\xfd\\x1d\\xbb\\x8b=\\xaa\\xa9\\xa19C3J3W\\xb3R\\xf3\\x94f?\\x07\\xe3\\x98q\\xf8\\x9ctN\\t\\xe7(\\xa7\\x97\\xf3~\\x8a\\xde\\x14\\xef)\\xe2)\\x1b\\xa64L\\xb91e\\\\k\\xaa\\x96\\x97\\x96X\\xabH\\xabQ\\xabG\\xeb\\xbd6\\xae\\xed\\xa7\\x9d\\xa6\\xbdE\\xbbY\\xfb\\x81\\x0eA\\xc7J\\'\\\\\\'Gg\\x8f\\xce\\x05\\x9d\\xe7S\\xd9S\\xdd\\xa7\\n\\xa7\\x16M=:\\xf5\\xae.\\xaak\\xa5\\x1b\\xa1\\xbbDw\\xbfn\\xa7\\xee\\x98\\x9e\\xbe^\\x80\\x9eLo\\xa7\\xdey\\xbd\\xe7\\xfa\\x1c}/\\xfdT\\xfdm\\xfa\\xa7\\xf5G\\x0cX\\x06\\xb3\\x0c$\\x06\\xdb\\x0c\\xce\\x18<\\xc55qo<\\x1d/\\xc7\\xdb\\xf1QC]\\xc3@C\\xa5a\\x95a\\x97\\xe1\\x84\\x91\\xb9\\xd1<\\xa3\\xd5F\\x8dF\\x0f\\x8ci\\xc6\\\\\\xe3$\\xe3m\\xc6m\\xc6\\xa3&\\x06&!&KM\\xeaM\\xee\\x9aRM\\xb9\\xa6)\\xa6;L;L\\xc7\\xcd\\xcc\\xcd\\xa2\\xcd\\xd6\\x995\\x9b=1\\xd72\\xe7\\x9b\\xe7\\x9b\\xd7\\x9b\\xdf\\xb7`ZxZ,\\xb6\\xa8\\xb6\\xb8eI\\xb2\\xe4Z\\xa6Y\\xee\\xb6\\xbcn\\x85Z9Y\\xa5XUZ]\\xb3F\\xad\\x9d\\xad%\\xd6\\xbb\\xad\\xbb\\xa7\\x11\\xa7\\xb9N\\x93N\\xab\\x9e\\xd6g\\xc3\\xb0\\xf1\\xb6\\xc9\\xb6\\xa9\\xb7\\x19\\xb0\\xe5\\xd8\\x06\\xdb\\xae\\xb6m\\xb6}agb\\x17g\\xb7\\xc5\\xae\\xc3\\xee\\x93\\xbd\\x93}\\xba}\\x8d\\xfd=\\x07\\r\\x87\\xd9\\x0e\\xab\\x1dZ\\x1d~s\\xb4r\\x14:V:\\xde\\x9a\\xce\\x9c\\xee?}\\xc5\\xf4\\x96\\xe9/gX\\xcf\\x10\\xcf\\xd83\\xe3\\xb6\\x13\\xcb)\\xc4i\\x9dS\\x9b\\xd3Gg\\x17g\\xb9s\\x83\\xf3\\x88\\x8b\\x89K\\x82\\xcb.\\x97>.\\x9b\\x1b\\xc6\\xdd\\xc8\\xbd\\xe4Jt\\xf5q]\\xe1z\\xd2\\xf5\\x9d\\x9b\\xb3\\x9b\\xc2\\xed\\xa8\\xdb\\xaf\\xee6\\xeei\\xee\\x87\\xdc\\x9f\\xcc4\\x9f)\\x9eY3s\\xd0\\xc3\\xc8C\\xe0Q\\xe5\\xd1?\\x0b\\x9f\\x950k\\xdf\\xac~OCO\\x81g\\xb5\\xe7#/c/\\x91W\\xad\\xd7\\xb0\\xb7\\xa5w\\xaa\\xf7a\\xef\\x17>\\xf6>r\\x9f\\xe3>\\xe3<7\\xde2\\xdeY_\\xcc7\\xc0\\xb7\\xc8\\xb7\\xcbO\\xc3o\\x9e_\\x85\\xdfC\\x7f#\\xffd\\xffz\\xff\\xd1\\x00\\xa7\\x80%\\x01g\\x03\\x89\\x81A\\x81[\\x02\\xfb\\xf8z|!\\xbf\\x8e?:\\xdbe\\xf6\\xb2\\xd9\\xedA\\x8c\\xa0\\xb9A\\x15A\\x8f\\x82\\xad\\x82\\xe5\\xc1\\xad!h\\xc8\\xec\\x90\\xad!\\xf7\\xe7\\x98\\xce\\x91\\xcei\\x0e\\x85P~\\xe8\\xd6\\xd0\\x07a\\xe6a\\x8b\\xc3~\\x0c\\'\\x85\\x87\\x85W\\x86?\\x8ep\\x88X\\x1a\\xd11\\x975w\\xd1\\xdcCs\\xdfD\\xfaD\\x96D\\xde\\x9bg1O9\\xaf-J5*>\\xaa.j<\\xda7\\xba4\\xba?\\xc6.fY\\xcc\\xd5X\\x9dXIlK\\x1c9.*\\xae6nl\\xbe\\xdf\\xfc\\xed\\xf3\\x87\\xe2\\x9d\\xe2\\x0b\\xe3{\\x17\\x98/\\xc8]py\\xa1\\xce\\xc2\\xf4\\x85\\xa7\\x16\\xa9.\\x12,:\\x96@L\\x88N8\\x94\\xf0A\\x10*\\xa8\\x16\\x8c%\\xf2\\x13w%\\x8e\\ny\\xc2\\x1d\\xc2g\"/\\xd16\\xd1\\x88\\xd8C\\\\*\\x1eN\\xf2H*Mz\\x92\\xec\\x91\\xbc5y$\\xc53\\xa5,\\xe5\\xb9\\x84\\'\\xa9\\x90\\xbcL\\rL\\xdd\\x9b:\\x9e\\x16\\x9av m2=:\\xbd1\\x83\\x92\\x91\\x90qB\\xaa!M\\x93\\xb6g\\xeag\\xe6fv\\xcb\\xace\\x85\\xb2\\xfe\\xc5n\\x8b\\xb7/\\x1e\\x95\\x07\\xc9k\\xb3\\x90\\xac\\x05Y-\\n\\xb6B\\xa6\\xe8TZ(\\xd7*\\x07\\xb2geWf\\xbf\\xcd\\x89\\xca9\\x96\\xab\\x9e+\\xcd\\xed\\xcc\\xb3\\xca\\xdb\\x907\\x9c\\xef\\x9f\\xff\\xed\\x12\\xc2\\x12\\xe1\\x92\\xb6\\xa5\\x86KW-\\x1dX\\xe6\\xbd\\xacj9\\xb2<qy\\xdb\\n\\xe3\\x15\\x05+\\x86V\\x06\\xac<\\xb8\\x8a\\xb6*m\\xd5O\\xab\\xedW\\x97\\xae~\\xbd&zMk\\x81^\\xc1\\xca\\x82\\xc1\\xb5\\x01k\\xeb\\x0bU\\n\\xe5\\x85}\\xeb\\xdc\\xd7\\xed]OX/Y\\xdf\\xb5a\\xfa\\x86\\x9d\\x1b>\\x15\\x89\\x8a\\xae\\x14\\xdb\\x17\\x97\\x15\\x7f\\xd8(\\xdcx\\xe5\\x1b\\x87o\\xca\\xbf\\x99\\xdc\\x94\\xb4\\xa9\\xab\\xc4\\xb9d\\xcff\\xd2f\\xe9\\xe6\\xde-\\x9e[\\x0e\\x96\\xaa\\x97\\xe6\\x97\\x0en\\r\\xd9\\xda\\xb4\\r\\xdfV\\xb4\\xed\\xf5\\xf6E\\xdb/\\x97\\xcd(\\xdb\\xbb\\x83\\xb6C\\xb9\\xa3\\xbf<\\xb8\\xbce\\xa7\\xc9\\xce\\xcd;?T\\xa4T\\xf4T\\xfaT6\\xee\\xd2\\xdd\\xb5a\\xd7\\xf8n\\xd1\\xee\\x1b{\\xbc\\xf64\\xec\\xd5\\xdb[\\xbc\\xf7\\xfd>\\xc9\\xbe\\xdbU\\x01UM\\xd5f\\xd5e\\xfbI\\xfb\\xb3\\xf7?\\xae\\x89\\xaa\\xe9\\xf8\\x96\\xfbm]\\xadNmq\\xed\\xc7\\x03\\xd2\\x03\\xfd\\x07#\\x0e\\xb6\\xd7\\xb9\\xd4\\xd5\\x1d\\xd2=TR\\x8f\\xd6+\\xebG\\x0e\\xc7\\x1f\\xbe\\xfe\\x9d\\xefw-\\r6\\rU\\x8d\\x9c\\xc6\\xe2#pDy\\xe4\\xe9\\xf7\\t\\xdf\\xf7\\x1e\\r:\\xdav\\x8c{\\xac\\xe1\\x07\\xd3\\x1fv\\x1dg\\x1d/jB\\x9a\\xf2\\x9aF\\x9bS\\x9a\\xfb[b[\\xbaO\\xcc>\\xd1\\xd6\\xea\\xdez\\xfcG\\xdb\\x1f\\x0f\\x9c4<YyJ\\xf3T\\xc9i\\xda\\xe9\\x82\\xd3\\x93g\\xf2\\xcf\\x8c\\x9d\\x95\\x9d}~.\\xf9\\xdc`\\xdb\\xa2\\xb6{\\xe7c\\xce\\xdfj\\x0fo\\xef\\xba\\x10t\\xe1\\xd2E\\xff\\x8b\\xe7;\\xbc;\\xce\\\\\\xf2\\xb8t\\xf2\\xb2\\xdb\\xe5\\x13W\\xb8W\\x9a\\xaf:_m\\xeat\\xea<\\xfe\\x93\\xd3O\\xc7\\xbb\\x9c\\xbb\\x9a\\xae\\xb9\\\\k\\xb9\\xeez\\xbd\\xb5{f\\xf7\\xe9\\x1b\\x9e7\\xce\\xdd\\xf4\\xbdy\\xf1\\x16\\xff\\xd6\\xd5\\x9e9=\\xdd\\xbd\\xf3zo\\xf7\\xc5\\xf7\\xf5\\xdf\\x16\\xdd~r\\'\\xfd\\xce\\xcb\\xbb\\xd9w\\'\\xee\\xad\\xbcO\\xbc_\\xf4@\\xedA\\xd9C\\xdd\\x87\\xd5?[\\xfe\\xdc\\xd8\\xef\\xdc\\x7fj\\xc0w\\xa0\\xf3\\xd1\\xdcG\\xf7\\x06\\x85\\x83\\xcf\\xfe\\x91\\xf5\\x8f\\x0fC\\x05\\x8f\\x99\\x8f\\xcb\\x86\\r\\x86\\xeb\\x9e8>99\\xe2?r\\xfd\\xe9\\xfc\\xa7C\\xcfd\\xcf&\\x9e\\x17\\xfe\\xa2\\xfe\\xcb\\xae\\x17\\x16/~\\xf8\\xd5\\xeb\\xd7\\xce\\xd1\\x98\\xd1\\xa1\\x97\\xf2\\x97\\x93\\xbfm|\\xa5\\xfd\\xea\\xc0\\xeb\\x19\\xaf\\xdb\\xc6\\xc2\\xc6\\x1e\\xbe\\xc9x31^\\xf4V\\xfb\\xed\\xc1w\\xdcw\\x1d\\xef\\xa3\\xdf\\x0fO\\xe4| \\x7f(\\xffh\\xf9\\xb1\\xf5S\\xd0\\xa7\\xfb\\x93\\x19\\x93\\x93\\xff\\x04\\x03\\x98\\xf3\\xfcc3-\\xdb\\x00\\x00\\x00 cHRM\\x00\\x00z%\\x00\\x00\\x80\\x83\\x00\\x00\\xf9\\xff\\x00\\x00\\x80\\xe9\\x00\\x00u0\\x00\\x00\\xea`\\x00\\x00:\\x98\\x00\\x00\\x17o\\x92_\\xc5F\\x00\\x00\\x1eVIDATx\\xda\\xec\\x9d{\\x94\\xddU\\x95\\xe7?\\xfb\\xac\\x9a\\x9a\\x9aZ5\\x99\\xea\\xac\\x9a\\x9aLu\\xadLM\\x8c\\xb9\\xbfN\\xc7X\\x83\\xe9\\x90\\xa61\\xad\\x10\\x03\\x03\\x08\\x18\\x10b\\x90\\x87\\x08\\x08\\x02\\x8a<\\x04G1+C\\xd34\\x9dFD\\x9a\\x8e\\x91\\xc1\\xf8Bd\\x10\\x11\\x84F\\x1ei\\r\"\\x0cQ\\xa0\\x81$\\xde\\x8a\\x10b\\x11c\\x0c\\xe9\\x10B\\x19\\x8aP9{\\xfe8\\xfbW\\xf7\\xdc_~\\xf7\\xd6\\xadW\\x82\\xe4\\xee\\xb5n\\xdd\\xba\\xf7\\xfe\\x1e\\xe7\\xb1\\x1f\\xdf\\xfd8\\xe7\\'\\xaaJ\\x9d\\xeaT\\xa7\\xb77\\xb9\\xfa\\x10\\xd4\\xa9NuA\\xafS\\x9d\\xeaT\\x17\\xf4:\\xd5\\xa9N\\x7f\\x0c\\xd4\\x00 \"\\xfb\\xad\\x01\\x9a\\xb8f\\x856\\x81V\\xa0\\x19hJ\\xdb\\xa50 0\\x00\\xec\\x06v\\x01}(}\\x08;\\xa5\\xe8w\\xd7\\xa7\\xef\\xc0\\xa3\\xb1\\x8a)\\xedO\\x9e\\xdf\\x1fc#\\xaa\\xbaO;\\xed\\x0b\\xae\\r8D\\x84\\xc3\\x81\\x83\\x80\\xae\\x8c\\x807\\x0c\"\\r\\xc5#x\\xc0\\x9b\\xb0\\xef\\x06\\x06\\x14\\xfa\\x05\\xb6\\x03\\x9bU\\xd9\\x82\\xf0\"\\xca&\\x84\\x8d\\x02\\x9b\\x14\\xfa$\\x1c\\xdbWW\\x08\\xc3R\\xba\\x8d@\\xb3*\\x13\\x80N\\x84\\x0e\\x81\\x89\\n-\\x02\\x8d(\\xa80\\x80\\xb2[\\x84\\x1d\\n[\\x04zm\\x0ev\\xb9}0\\xd65\\t\\xba\\xc8<`90\\x05\\x98\\x88\\xea+C\\x08\\xba\\x03\\xae\\xb7\\xd7\\xc6\\xb7\\xa3\\xa07\\xecC\\x01\\xef\\x04.\\x11a\\x11\\xd0\\xae\\n\\x02\\xf6\\x074\\xfc\\xbb\\x1b\\xd8\\xac\\xb0M\\xa0\\x0f\\xa1\\xdf\\x84\\xdd)4\\n\\xb4\\x00\\x13\\x04&\\xaa\\xd2)B\\xf7\\xe0tE\\xf3f\\xff\\xf6\\xab\\xf2\\x7f\\x80\\x0b\\xeb\"\\\\aN\\x12\\xd7\\x842S`\\x96\\n\\x07\\x03\\t\\xd0%B[\\xec\\xd6I:A\\xe5\\xc3\\x8c\\xe8\\xe0\\x17\\xdb\\x05\\x8a>q\\xab\\x05\\xee\\x07\\x1e\\x95\\xa2\\xdf\\xb5_:%\\xf2\\x1e\\xe0!\\xfb\\xf4\\xb5<!\\xcf\\xa1\\t\\xc0\\x0c`\\xdb\\xdbu\\xae\\xf7\\x89E\\xf7\\x057\\x1b\\xb8\\x1d\\xa1+f\\x16\\xb3\\xbc\\xbf\\xb4\\x89yL\\x95\\xe7E\\xe8\\x03vk\\x80\\xec\\x03\\x83\\x0c&8U\\x1aDh\\x04\\x1a\\r\\x05t\\xa2|\\x10\\xe1\\x8a\\x94\\xe74bNU\\xbe\\xefz\\xfc\\x87\\xeb\"]f\\xb5[\\x15\\x0e\\x05N\\x06\\xe6\\x02\\xed\\x12\\xd0T\\x1f\\xb0I\\x95\\xd5\"<\\x03<\\x0fl\\x01v\\x1a\\x82r&\\x10\\x1d(3\\x80\\x83\\x15\\x0e\\x01\\xda%(bP\\x10a\\xc0\\xac\\xe2\\xf5\\xc07j\\x14\\xf8o\\x03\\xbf\\x02\\xfev\\xd4\\x16]\\xe4!`\\x1e\\xf0\\n\\xf0\\x8eJ\\x82\\x9e\\xe1\\xf9c\\x80\\x13\\x80\\x8f\\xbd]\\xa1{\\xc3>`\\xacv\\x85[E\\xe9J\\xa5P\\xa1_\\x84\\xaf\\t\\xdc,E\\xbf\\xa6V}A\\x10\\xfe\\xfe\\xe8\\xda(\\x1c/\\x11$0\\x01O\\xa5}]]\\xb4\\x07\\xc7j\\x12\\xca9(\\x1f\\x93\\xe0.\\xa1a\\xbc\\xfe\\x1fp;\\xf0\\xa0\\xc2z\\xd7\\xe3\\x07\\x86\\xb8\\xd4\\xbf\\x02\\xffl\\xd7\\x9c\\x88r$\\xf0iQf\\x9b\\xa6m@\\x98\\n\\xdc\\x08\\x1c\\xa7\\x05w\\xaa\\xf4\\xf8\\xadC\\\\\\xf3f\\xa0\\xddP\\x84\\x1f\\x855\\x9fbB\\x0ep\\x05\\xaa\\xaf \\xb2\\x1c8\\x07x\\x18\\xd5\\x0fT8\\xf38\\xe0\\xbe\\xb7}0n\\x9ci\\x110UeP\\xe3oD9\\x15xL\\x8a\\xde\\x8f\\x82q\\x1b\\x81\\x9b\\x11\\x12\\x85\\x01\\x11\\xb6\\x18\\x9c\\xc7\\x98\\xd8\\x0b<Y\\x87\\xe7\\xce\\t\\x9c\\x08\\\\\\x8f\\xd0\\x114?\\x1e\\xe1Q\\x94\\xab\\x10\\x1e\\x19i\\x1cC\\x8a~;\\xf0]\\x9f\\xb8\\x1f\\x88p.p\\xb5B\\xb3M\\x81Se\\xbe\\x08+4q\\'H\\xd1\\xf7W\\xb9\\xd4#c\\xd4\\xdd\\x14\\xbd=\\x8c\\xea\\xd7\\x10\\xb9\\xdc\\x84\\x1c*\\xf3B3\\xd0\\r\\\\\\xf6v\\xe6\\x83qO\\xaf)\\x1c.\\x06\\xa5E\\xd8\\xa5p\\xb2\\xeb\\xf1\\x8f\\x8eF\\xc8\\x8d.\\x06\\xe6\\x8b\\x02\\xcaW\\x81M\\xa9\\x90K\\xb0T\\xbbTY_7\\xe5|\\x12\\xf8\\xa6An\\x080|\\x89\\xc0\\x11\\xae\\xc7?<\\x16\\xc1J\\x17\\x84\\xf8+\\x16\\x0f\\xd9\\x9d\\x99\\xff\\xf9\\xc0\\x91\\xfb\\xa8\\xb7\\xa9P\\x7f\\xc2\\xde/\\x8f~\\xdbP\\xe1\\x9ci\\xc0f`\\xc7(\\xee\\xdb\\x08\\x1c\\x06\\xcc\\x19B\\xa6\\xa6\\xd7 \\x8fs\\x0c\\x95\\xb8\\x1a\\xe5w\\x9a\\xc5V\\xf6\\xaf\\xa0\\x03\\x93R(\\xad\\xca\\xd7]\\xd1\\xaf\\x1e\\x03\\x18z\\xa8*\\x9f\\xd7\\x00\\xcf\\x1f\\x15\\xe1\\x06\\r\\x11V4})\\xdbE*N\\xee\\x81a\\xcd\\x0bn6\\xc2\\xb5@\\x93\\xb96\\x03\\n\\x17*\\xfc\\xcd\\x10\\x16v$\\xd6\\xdd+|\\x03\\xe1\\x1e\\xb5I\\x90\\x10\\xb0k\\x00>\\xee\\x0b\\xae\\x12\\xaf\\xb5\\x03O\\x1b\\xc3^\\x0b\\\\:\\x8a \\xdc\\x14\\xfb\\xf4\\x02\"\\n\\xfcIt\\xc4\\xbc\\ng\\x1e\\x05\\xfc<\\xe5U\\xe0V\\xe0\\xd7fH\\x00:\\x80\\'\\xec=\\x8f\\x9a\\x08\\x11\\xfe\\x0b\\xcd\\x05i6\\xa4\\xdc\\x949n\\x8a\\xf5\\x0fB*y\\x05\\xd0\\x03,\\x89dq1\\xf09\\xbb^W\\xa4D\\xce\\xb2\\x98\\xc7\\xe36^]\\xc0R{-\\x8c\\xfa\\xbd_\\x05\\xbd\\xcf,\\xed\\x80\\x08w\\x8d\\x01\\x14mR\\xb8Q\\x84\\x16\\t\\xc1\\xa2\\xb3\\x15\\xbaP\\xdaBt\\xd1\\x18\\x0c\\xd6\\x1c\\xc8\\xa95-8\\'\\xc2gDi\\xa6\\x14\\xa3\\xf9\\x96\\xc0\\xd7]\\xcf\\xa8\\xd1T%\\xcb\\xee\\x81\\x9b$\\x85pA\\x11\\xa3\\xca\\\\\\x0b\\xa2\\xe6\\xd11\\x16\\xf8\\xdb@H\\xb7\\xc6(\\xec \\x0b\\x18\\xd6B\\xd5\\x98\\xfd\\xe1\\xc8\\xcag-\\xf1\\x07\\x80{\\x81\\x89\\xc02\\xe0&\\x13\\xb8\\xff\\x1a]w\\x80\\x90\\xceM\\x85\\xf4\\x18\\x08\\xfcfB\\xf8\\x02p\\xba\\xa1\\x82\\x06S*\\xd7\\xe7\\xb4o\\x1d!\\xa0y3!\\x00\\xf9\\x99H\\x81\\xcc\\x07:-(\\xb8\\x86\\x90aj\\x04\\xae&\\x04J\\xd7Z\\xfc\\xa2\\xc5\\x14\\xc1m\\xc0%\\xc0\\xffNc&\\xfb\\xd5G\\x17e=\\xc2\\xfb\\x08\\xc5.\\xbd\\xa3\\xf57\\x81+Q\\xba-\\xbf~\\xbe\\x14}Q\\x13w\\x12!*?\\x18\\x90C\\xf8\\xe5\\x01\\x0e\\xda[\\x81C\\x07\\xe3\\x92\\xc2&\\xe0\\xca\\x91\\xbaLZp\\x8d\\x08\\xc7\\xab\\xf2\\x97\\x02\\xb7HO~\\x10U\\x02\\x93n5\\xcb\\x93\\xc6e&\\x10r\\xf3Y\\x14\\xd1\\x02|\\x9c\\x10\\xedn1\\x8b\\xfa\\x98\\xbd\\xdf`}8\\x04xw\\x15\\xe8\\x9d\\xc2\\xc5;\\x88\\xb3\\x7f\"/D\\xc2_)\\xcd\\xd6b\\xae\\xc6F\\xb3\\x8e+\\xec\\xfe\\xa7\\x9a`\\x01\\xcc\\xb6\\x18B?p\\x92\\t\\x97\\x03\\x8af\\xc5?\\x08|\\xc8\\xacl\\xbb\\tc\\xb7)\\x8e\\x98\\x8e\\x00\\xee4\\x8b\\xfd#\\xe0_L\\x88\\x7fc\\x02}\\x9e]\\xaf\\xc5 ~\\xbf)\\x8cNS*m\\xa6\\x04:\\r\\xfdL2%\\xd1\\x07\\xec\\xdc\\xff\\x16]\\x06a\\x91\\'\\xa4^Fq)f\\t\\\\ !\\xb0\\xf7\\x1d)\\xfa\\x1fh\\x10\\xfe\\xbfL\\x0f\\x88\\x92&O\\x1f\\xe0\\x82\\xde\\x0c\\xb4E\\xd6\\xf5\\xfbR\\xf4\\x9bG\\xe0&9M\\xdc\\xf1\\x08\\x0f(\\xdc&\\xc2EZ\\xbd6\\xa1\\x0fe\\xa3\\x12\\xa2\\xfa\\x16\\x89\\x1f@\\xc8K\\xb3-$D\\xfd\\xd7\\x9b\\x9f\\xb9\\xd9,\\xde2\\x13\\xba\\xe3L\\xa0\\x92\\xe11\\x8a\\xcc\\xcbX\\xf8\\x87+\\x1c9\\xc7\\xd0D\\xa7\\xbd~l\\xf7:\\x16\\x06\\r\\xc5_\\x01\\xab\\x80O\\x01\\xef5\\xc1^B\\xc8\\xbb\\xcf\\x06~F\\xa8\\xda<\\xd1\\xac~3P\\x88\\xdc\\x01\\x80\\xc9\\xd6\\x9eMv\\xce\\xf7M1,\\x02V\\x9b\\xc0\\xee\\xb4\\xdf\\xe7\\x1b\\xec\\xdfe\\xf7\\x99\\x07\\xfc\\xc2\\x02\\x8d[\\x80\\xa7\\xec\\xfb\\xc5\\x16`|\\xbc\\x06\\xdf\\x7f\\x1f\\xa4\\xd7\\x94\\x7fA\\xd8\\x81\\xd2$B\\xeb(\\xfc\\xf2f\\xe0&\\xb3\\x0ck\\x10.I\\xfb\\xa0\\xca\\xac\\x8c\\x90\\xef&\\xa4\\x81\\x0e\\\\\\x12\\xbc*^J\\xe3r\\xe7\\x08\\xc6|\\xbe*\\xd7\"t\\xa7.\\x91\\xa1\\x83\\x95U\\xe6\\xdb\\x13J\\x97\\xb1J:DXm\\x8c\\x9b\\x85\\xcd\\xa7\\x02gG\\x96\\xb3\\x95\\x90\\x96\\xfb\\xb4\\t &\\xfc\\xc3\\xe5\\xd3\\xd8\\x1f\\x7f\\xb2J\\xd1\\xcct\\xe0%C\\r\\x0f\\xd8\\xfd\\xaf3\\x0b\\xdfg\\x9fgZ\\x1b\\x9f\\xa6\\xa4\\xe06\\x9b\\xe5\\x9ei\\na\\xa6)\\xa5\\x89f\\xf5\\x9b#+\\xdbi\\x8a\\xeb\\x12`\\x16\\xf0\\x13\\xeb\\xcf\\r&\\xb8;\\xac\\x1d\\xcf\\x98\\x95\\xfe\\x84\\x8d\\xcd\\xd9v\\xee\\xe1\\xc0\\xb3\\xd1\\x98\\xb5\\x03\\xdf\\xb0\\xd7\\x99\\xc0G`h\\xa4<\\xee\\x16]\\x84\\xcd\\x02\\x0f\\x8b\\xd0<l\\xcd\\\\\\x1e\\xbe\\xbd\\x088\\x08a\\x00\\xe1B)\\xfam\\xf6}\\x97\\x08me\\xf9\\xf3P\\x96\\xb9\\xfd-\"r\\xfbk\\xe1P\\xbfH\\x18\\x03U<\\xca\\x9a\\n\\x8a\\xfe\\xc8(\\xf0\\x93\\x19rN\\x15\\xe8Nk\\x14\\xd2\\x97\\x06+TI\\xc18\\x91R J\\xc0+\\xac\\xc8q\\x19f\\xd8\\xd8\\xa4>\\xf9\\xbb\\x8ca?\\x16\\t9\\xe6\\x1f7\\x0f\\xb3\\xef\\xe7\\xd4`\\xcd\\x01\\xfe\\xc2\\xc6\\xe0\\x9d\\x86\\nW\\x98o\\xfdM\\xb3\\xea\\x13M\\xb8\\xee\\xa0\\xbc\\x98\\xc7\\x9b\\xd5\\xfdO\\x06\\xc9o\\xb4\\xbe\\xdcL\\xc8>\\xf4\\xda\\xb5;\\xec\\xbb\\x1b\\r\\x99L\\x05\\xfe\\x87\\xf9\\xe7\\xb7\\xd8\\xbdN0\\x85\\xf2\\x1e\\xf3\\xbd\\x9b\\x81\\x07\\x81\\xab\\x08\\x95z\\x9dv\\xaf#\\xed\\xbb\\xd6(\\x88\\xf8AS\\x96}\\xfb_\\xd0\\xc3\\x04/\\xb3\\t;b\\x84\\xd6|\\x8e\\xf96\\x00\\xff E\\xff\\xd3\\x88\\x19\\xe7\\xd8{l\\xd2\\x8b\\xc8\\xd0\\x9d\\x1fgj4\\xb8\\xb7p?\\xdd\\x7f\\xa7\\x06\\xe6\\xc2\\xaa\\r\\xb3\\xfeq7\\xa1H\\xe4~\\xb3Byt\\x95)V\\x06\\xc7\\x18\\xb6\\xb9\\xa2\\xdf8\\x84\\xcb\\xd0\\x91J9\\xca#\\x02\\xdf\\xad0>\\xdf\\x8e>\\x7f\\xce\\xacS\\xb6\\xb8f\\xa3\\xf9\\xa4\\xc3\\xa1\\xd4\\x82_\\x8b\\xea\\x15U\\x8e\\xeb0\\x8bz\\x07!\\x02\\xfe\\x19S\\x0c\\xdf\\x02\\xfe\\xd4\\xe0\\xf8_\\x00\\xdf\\xa3\\xbc\\x90\\'\\x85\\xe8)\\xb2\\xe97\\xeb\\x9c*\\x95\\xdb\\x81\\x05\\x06\\xado2\\x97\\x00\\xe0\\x1e\\x0b\\xb4}\\xde\\xfe\\xff\\x81\\xc9\\xe0_[\\xbf\\x9b\\x0c-\\xdco\\xf2r\\xba\\x8d\\xc9R\\x13\\xf0+-\\xa0\\xf7I\\xe0\\x14\\xfb}K\\x8d\\xd0z\\xfcw\\x98\\xd1\\xc45h\\xe2~\\xa6\\x89{Y\\x137aX\\x01\\xb8\\x82k\\xd6\\xc4=\\xa1\\x05\\xa7\\xbe\\xe0\\x9e\\xd0\\xc4\\xb5f~\\xbfQ\\x13\\xa7\\xe9\\xcb\\x87\\xf7\\xab\\xde\\x02V\\xfc\\x06`\\x8fM\\xca~!\\x9f\\xb8\\xcfj\\xe2T\\x0b\\xeeus}0\\x1f\\xf8b\\xe0\\xf7\\x94\\xb2\\x91\\x17W\\x98\\xb7\\xc9\\x9a\\xb8\\xd74q\\xea\\x0b\\x83c\\xfc\\x93!\\xe6\\xfaPM\\xdc\\x1e\\x9b\\x8b\\x974qSG\\xd9\\x8d\\xd9&P\\x13R~\\x1d\\x8b\\x97\\xd1\"\\xf6N\\x83\\xc5hgR\\x05c\\xe8\\xcc\"\\x9fa\\xd7X`\\xca\"\\xce,L\\xb2W-\\xees\\x07\\xf0>\\xe0\\x02C\\x13\\xedC\\x1c\\x7fR\\x1e\\xca\\xa9\\xd6\\xdf}\\x02+\\xa5\\xe8\\x07\\x80\\xc5\\n\\x134h\\xc9\\x9a\\x03A\",\\x06f#\\xec\\x14\\xe1\\x13R\\xf4;2\\xbf\\x1f\\x94\\xc1\\x9b\\x9e\\xf1\\xaf\\x88\\x9b`\\x13S)\\xb7z\\xa6\\tx<\\xbeS\\xec\\x9c\\xc6Q\\xde{\\x12\\xa18c\\xe8x\\x87\\xf2\\x03`\\x17B\\x13J\\xbb\\x05\\x85\\xee2\\x0b\\xb4$:rk\\x85\\xf3]\\xda\\xde\\xa84|M\\xd5\\xc0\\x9dr\\xbe\\x86~o\\x128A\\x8a\\xfe\\xf9Q\\xf6w\\xb5\\xf9\\xa9;C;d\\xa8W\\xb3\\x88\\xcc\\x15\\x91\\xaej\\xc7\\x19}7\\x07\\xe9\\xc4.\\xc3\\x16\\xf2Kr=![p\\xaf\\x05\\xe8\\xb6ZP,N\\xe7n\\xa9\\xd1\\xda\\xa6\\xa9\\xbb\\x93\\t\\x91\\xf8\\x1dT_\\\\3\\x00\\xfc\\xdf\\x9c\\x98\\xc7[\\xc6\\x7f|D\\x94\\x1f\\n\\x9c\\xef\\x13\\xd7R\\xe39\\x87\\x01\\x9f2\\xe1]\"E\\xff\\xaf\\x19F\\x9ch>\\xcc \\xb6\\x94\\xb0\\xe2m,j\\xdc\\x1b*\\xf8\\x86\\x8d\\x06\\xadV\\x1aDk\\xca\\x81\\x83\\x8b\\rb\\xfd\\xad\\x05k\\x0e!\\x14]\\xac\\x1c\\xa5\\x85\\x9fb\\x11\\xe0\\x87\\x0c\\xceU\\x9f\\xdc\\x1e\\xff\\xbc\\xa6pR\\x98m\\xbe\\xdc\\xc7\\x81\\x7f\\xca0eo\\x05\\x7f\\xbb-G1\\xfd\\xaa\\xca-\\x8f\\x148\\x1ee\\x03p\\x9c\\x8cAq\\xd4\\x08\\xdc\\xa5\\xdb,\\xe0\\xf5#B\\xaaj<i\\x81\\x059\\x8f0(>\\x1a\\xd4\\xb2\\xd6\\x82u\\x0f0\\x9az\\xff\\xfd-\\xe8R\\xf4\\x03\\x08\\x9f\\x03\\xba$\\x14\\x1c\\x0c\\x05;;\\x15\\x96+4)\\xfcX\\x03sf\\x83E\\x1d\\xaa%\\x98\\xa3\\xa18c\\x07\\xa3\\xaf\\x88k0\\x8bwF\\xceo\\xf3Mp\\x9d\\x05k\\xb2\\x11\\xe1\\xf3M\\xd8O5_l\\xb5Ek\\xd3\\xa5\\x9f\\xffy\\x14\\xedZd\\xfe\\xaa\\xa3T\\xb0Q}\\xdc\\x95\\xebT\\xd9\\x8dr\\x9cY\\x8e\\xd4\\xbf~\\x87\\xbd\\xef\\xaa$\\xe8Z*\\x9b5h\\x08\\x95\\x94\\xa8O\\xdctU\\x96#<%\\xf0\\x01)\\xfa\\xa7\\xf6\\x83\\xb72\\xdb\\x82V\\xce\\x10O\\xe38\\xde\\xab\\x018\\x98\\x90\\xdfobt\\xeb\\xd8O\\xb0\\x00\\xdc\\xc1f\\xd5\\xff\\xb8#\\xc2R\\xf4\\x1b,\\xb8\\xf1\\xe3! {\\xb3(7\\xa1L\\x11\\xd8,\\xc2\\xf9.\\xa7dS\\x84i\\xa9EM\\xcb.\\x11\\x9e5Wa4\\xb0\\xfcz\\xe0\\n\\x0b\\x8c\\xec\\x15\\xe42\\xb8\\xb7\\x8b\\x90\\x8a\\x89\\x83~\\xad\\xc0G\\xa3\\xe0L\\x1c\\xbc\\xf1\\xc6\\x147\\x8f\\xa2m;\\x0c\\xbame\\xef\\xca\\xab\\n\\x83\\xcec\\xc0=\\n\\xf34q]\\xd1/I\\x041w\\xe6\\x9fJ\\xa7\\xc6c\\x0b;\\t\\x857\\xd98\\xca\\x0c\\x94;%\\xa0\\xabu\\xc8~[\\xd7\\xbd\\xcb\\xc6\\xbe\\xdfb$\\xe3\\x99yI\\xd1\\xcea\\xc0\\xdd6/#\\xa1&Cj]\\x84\\xdc{\\xffxi%\\xf6\\x83\\xb0W\\xf5\\xcb\\x81\\xcf\\xabp,\\xcan\\xe0\\xd3R9\\xca\\xfb\\xee\\xec\\xc6\\x13\\xa2<5J\\xc5\\xb7\\xcc,\\xa7\\xa7\\x94\\xbf,sA,J:\\x00{\\xdd\\xeb\\xa0\\xc8o\\x8f\\x95\\xe8\\xe5\\xe6\\x1b\\xaf\\xab\\xa0<j\\xa5\\xafY\\x9b6S\\x9e\\x82\\xaa\\x8a\\xa44q\\x8bUy\\x82\\x90\\x9b\\xfd\\xbc\\xb5m\\xfaP\\x82N\\x88<\\xa7\\xd6\\x1d\\x84m\\x9a\\xf1\\xe7\\xb5\\xe0\\xe6kHKu\\x98\\xf1?K\\x94.M\\xdcG\\x06S\\xa0\\xfb\\x8e\\x9e\\x02\\xdeo|=\\xde\\x95\\x91ii\\xec\\xbb\\x80\\xaf\\x8f2\\xe6\\xd2OH\\x95}n<\\xe1\\xc7[\\x8d\\xceP\\xb8\\xd4V\\xb56(,\\xf3\\x05w\\rB\\x9f\\x04\\x86\\xdc\\xa9\\xe1\\xbd\\x0f\\x98[\\xb6\\xd1Dx\\x8d&\\x10\\xd7d\\xf0\\x0fB\\x95\\xd2\\xb6*\\x01\\xa2<\\x9a\\x11\\x8di{d\\xd5\\xfb\\xa8\\x9e\\xcf\\xad\\x95v3\\x82%\\x9dR\\xf4\\xeb\\xb4\\xe0\\xbe\\xa4p\\xb1&n\\x85\\x14\\xfdVJ\\x95c\\xeb\\xaaX\\xa3\\xce2%\\n\\xbdR\\xf4;#\\xa5\\xdc\\xa1p\\x0bZJ\\xa7\\xd9\\xa1\\xf3\\x14n\\xf3\\x05w\\x82\\xeb\\xf1;\\xf7\\x83\\xb0\\xef\\x0b\\xdaMpA\\x8f\\x18\\xa5O=`<w\\t\\x8c_J\\xf8-%\\xe8>q\\x87\\xa9r\\x03\\xd0h\\xc5\\x19\\x0e\\xa5\\r\\xa1\\r\\x8dr\\xe5Z\\xf2\\xc9\\xd3\\xcfZZ8\\xb3f\\x14Mh!D\\xa61\\x98=\\xdc\\xed\\x90\\xfe[\\x06\\xda\\xbduH\\xb8^\\x82\\xff\\xba\\xb4\\xd5\\xb1t\\x87\\x1f\\x9c\\xfb\\xb5U\\xce\\xea\\x90(\\x87\\xae\\x94\\xfb\\xe7R\\xf4\\x9b\\xb5\\xe0\\x96j\\xb8\\xb6\\x8b1\\xbf(\\x87!\\\\\\xae\\x89\\xbbr\\x0c\\x96$\\xbf\\x15\\xe9YCv\\xa3\\r\\xfcn6k\\xbef<\\x1b\\xdb\\x90\\xe3ou\\x89p#p\\xa1T/\\x8c\\x18S\\xd2\\xc4\\xcd\\xd2\\xb0D\\xb0\\xc5\\x04\\xec+(/\\x9a%\\xef\\xd3P\\xf4\\xd1\\'!]\\xd4\\xa7\\xe0\\x05^T\\xc5E\\xa5\\xaf\\xbdTJ\\x15\\x85\\xbeN\\xa6|qD\\xea\\x1f\\xf5\\x13\"\\xec3\\xa2\\x00\\xce\\xd6\\xc8\\x8f\\xdd\\x9e\\x81\\xdc-\\x16\\x88\\xeb5\\xa8\\x9e.`\\x88}\\xe0\\xe9v\\x8d\\xcdv~\\x87\\xf5kG\\x85\\xf65\\xda1-f!\\xb6V@\\x14iPok\\x85>vX\\x9capJ\\x81\\rR\\xf4;|\\xe2>!\\xd0\\xfd\\xaa\\x1f\\xec\\x97\\xaf\\xc6`\\x1a\\xb6\\xeaJ\\xe3!\\xa09\\xeb\\x07\\x84\\x7f\\x14p\\n\\xd7\\x8a\\x8d\\x9d)d\\'p\\x11!\\xdf\\xbc\\xa1B?\\xc8\\xf4\\xb1#\\nl\\xf9\\xcc\\xb1\\xed\\x19whK\\x85\\xf1i\\xb6c\\xf3x\\xb7\\xd2\"\\x90v\\x1b\\xbb\\xe1\\xbaU\\x03v\\xee\\xd6\\nn`\\x07\\xa54]%\\xe8\\xdf\\x9b\\xe3\"\\xb6X{vD\\xc76gb5\\xfd\\x94\\x97\\xd9\\xf6V\\x8d\\x13\\xc4\\x053\\x9a\\xb8fM\\xdc\\xcf}\\xe2n\\xdb\\x97\\xaaQ\\x13\\xd7\\xe5\\x13\\xf7\\x82/8\\xd5\\x82\\xdb\\xa3\\x89\\xbb\\xb4\\x86s\\x0e\\x8a\\x0b9|\\xc1\\xa9O\\xdcJ[\\xe1\\x96\\xa5\\xc9\\x844\\xc8k\\x94\\x8a\\x18\\xe6\\x11r\\x9f{\\xec{\\xad\\xf2\\xba\"\\x03\\xcf\\x1f\\x07\\x9e\\xb3\\xcf\\xcb\\x868\\xf7\\x0c\\xc2R\\xc6\\xdfe\\xae\\x13\\x0b\\xe7G-\\x10\\xf3Jt\\xde]9\\x8a\\xf8\\x18B\\x05\\xd7\\xad\\x15\\xfax\\x07\\xf0o\\x99\\xfb\\xefa\\xef\\x82\\x98\\xa5\\xf6\\xdb\\x1b\\x11\\x82\\xc9\\x8eo\\xa3O\\xdc\\xbf\\xf9Pp\\x93\\x8e\\xf3\\x9c\\nH\\xcc\\xf9\\xc4-\\xf5v\\x9c/\\x94\\x15\\xd8|!G\\x00\\x16\\x12Vm-\\x8f\\x02\\xa0K\\tE<\\xafF\\x8a\\xb3\\t\\xf8\"\\xf0b\\xce\\xb8\\xae\\xcai\\xca4B\\xea\\xf1\\x85\\x8c`8\\xc2:\\xf7\\xdff\\xc6\\xa2\\x11\\xf8\\xac\\xb5\\xe5\\tj/\\xb5\\xed\\xb4\\xf9y\\xc3\\xce}_N\\x1f/\\x05^\\xa6\\xbc\\xfa/U6\\xb7\\x18\\xcf=\\x9d\\x13\\x08>\\x97P\\xf7\\x9e\\xd6\\x9b\\x1coc\\x12\\xf7\\xfde\\xbb\\xef\\xd3\\xf6\\xfa9\\xd0R\\xb5@(\\x16t\\x9f\\xb8/XU\\xd3a\\xfbP\\xc8\\xa7\\xf8\\x82{\\xce*\\xda\\xde\\xd4\\xd0\\x06W\\xc3y\\xa7Y\\xd5\\x97F\\x95q\\xd7\\xe5\\x08\\xd1BJU`{\\x8c\\x89\\xce\\x01\\xde\\x8c\\x06\\xee\\x0bv\\xecU\\xd1qGQ\\xbe\\xfdt\\x0b!\\x07\\x9e\\ncO4\\xa9\\xe9q+\\xa2k\\x9eH\\xa8m\\xfev\\xe6>Y\\xebs\\x9b)\\x8d\\xc4\\xae\\xd1b\\x93xT\\xc6\\xe2\\\\\\x1d\\xb59\\xab\\x88\\xa7\\x1bs_c\\xfd\\x9bB\\xc8\\x08\\xa4\\xf7\\xfdb\\xe6\\xf8\\xfb\\xed\\xfb\\xdfUq\\xa3\\xba\\x06\\xab\\xe2\\xc2\\xd8\\xbeQ\\xad\\xfeA\\x13\\xd7\\xa2\\x89{zP\\xe9\\x96\\xe6eU\\xa6\\x1fw\\xd8\\xf8*\\xa1<t\\x921j\\xda\\xd6W\\xac\\x0fM\\x16\\xcd^e\\xe38\\x118-RdOg\\xc6\\xf1\\xa3&\\x00j\\xe3\\xd7\\x12\\t\\xff\\xca\\xe8\\xfa\\x9f\\xb5\\xef\\x93\\xcc}\\x7f\\xc3\\xd0EH\\x8e\\xb0\\xb1fV\\xf1\\xbcH\\xa9\\x9a\\xad\\xc9\\xfa\\x95\\xf6\\xf1\\xdcL\\xb0\\xf6\\xa5\\xe8\\xbclM\\xc2\\x12\\xfb\\xfeu;\\x16S\\x86\\xd5\\x0c\\xc9\\x1b)\\xafT\\x13\\xf4\\x86\\xd8\\xaa\\x12r\\xc0\\x9b\\xd0}\\xb3\\xf2K\\x13\\xd7\\x0e\\xdc)\\xc2\\x0c\\r\\x8b\\x1f\\xbe$\\xf0w5\\xfat\\x7f\\x1e\\x07\\x8a\\x8c\\x9e\\xc9h\\xc7\\xabM\\x836Gp|\\xae\\t\\x81\\x8b\\xe0\\xfe\\xb7\\x0c\\xf6\\xa4\\xc57\\xfd\\x06\\xfd\\x06\"\\xa6H\\xd3Y\\xad\\xd1\\xb5R\\xf8\\xeb\\xa3\\xffS:\\x9cP\\x8b\\x1c/\\xe4\\xc9B\\xbc\\xabL\\x11}\\x08\\xabK\\xa7T)\\xf5\\xd3\\x08y\\\\Fy\\xce~k\\xc6\\xfdXa\\xf0p\\xb1\\x05\\x89\\xb6g\\xe2\\x0b\\x1b3B\\x91\\xba\\x18\\xc5\\xca\\x93\\xc3$l\\xb3\\x08\\x1b\\xe2\\xa2T\\x89YH\\xd1\\xf7i\\xc1]\\x8bp\\xabH\\x19\\xc4\\x9e\\xa4\\x05\\xd7 =~\\xae\\x05\\x9c&Dc\\xff[B\\xba1F\\n_5h\\xba\\xd8\\x84\\xea\\xaf\\xa3\\x0cC1\\x12\\xe0\\x8d\\x91u]fc\\xdf\\x16\\xb9Z\\x9eP*zz&^\\xf2\\xbc\\xf1\\xc0r\\xca\\xf3\\xec\\xbbk\\x08\\xaaM\\xb5\\xb1\\xfe\\x8e\\xc56\\x96\\x19?t\\x1125_&\\xd4\\xa3\\x9fCX\\xd7\\xde\\x07\\xfc\\xd0\\xce\\xed&\\xec0s\\x19a\\x91K[\\x0e?\\xa4\\xc2\\xbd3\\x82\\xfbS\\x0c\\xda?fJ\\xe2\\xa7v\\xcf\\x0f\\x10\\\\\\xa3\\x1f2D\\xba\\xba\\x0c\\xbak\\xe2\\x96\\x98\\x06~\\xa0\\x16\\x8b:&p\\xbd\\xe0\\x9e\\xb4{\\xbe\\xe9\\x13w\\x85&\\xaea\\x18\\xe7\\xdf\\x17Y\\x9b\\xd4\\xe2tg`\\\\\\xb7\\t\\xc8K\\x91\\xd6\\xfe\\xad\\t\\xd8\"\\xd3\\xba\\x0b\\xa2s~\\x12A\\xa3\\t\\x19\\xa86\\xc9\\x06=\\x85\\xf9\\xcbr\\x9au[\\x84\\x08\\x8e4F\\xba8\\xfa\\xee\\xd0\\xe8\\xd8\\xd9\\xc0\\x1f\\xacMm\\x19\\xab1?\\xfa\\x9c\\x18s\\x1f\\x19Y\\x89\\xb3\\xa2\\xdf/\\xb0\\xef>\\x9ai\\xcbC\\x91\\xc6\\x9f\\x9d\\x81\\xf8/G\\x16\\xb5\\x92E?)\\xb2\\xca\\xea\\x0bnE\\rs\\xd2\\xa4\\x89\\xeb\\x19DX\\xe1\\xfc\\x1e\\xe3\\xa7c\\xac\\x1f\\x9f\\x8a\\xac\\xd1/\\xcc\\xaa\\xcd\\xb6\\xff\\x9f\\xb0q\\x9fnp5\\xbb\\xb4\\xf6\\x93\\xd1\\xb9K\"\\x94\\xd0i\\xf3\\x9c\\xa2\\xad\\xb4bq\\xbe)\\xc7\\xd8\\xbd\\xba\\xce,\\xf94\\xb3\\x84\\xe9\\xf7?g\\xf8\\x056gF(k\\xad\\xcd\\xc5\\xeb\\xc6_Y\\x19ZFi\\xd3\\x88Ws\\x90\\x99\\x8b\\x90\\xc2\\xda\\x08)\\xae$\\xbf\\xf6}\\x99\\xcd\\xe3\\xd4X\\x96\\xab\\xd6\\xba\\xfb `\\x0b\\xc3\\xc1l\\x19\\xef(\\xa9U\\xbd\\xddmu\\xea\\xfd\\xc0\\xe5\\x02\\x7f_k\\xa1\\x8b-\\xd0\\xe8\\x02{\\x88@j\\x85\\xcb7\\x83\\\\OX\\x93\\xde\\x12\\rT\\x87i\\xd3%\\x86\\x08\\xbe\\x17i\\xdc\\x86\\xc8\\xa2o\\xcd\\x04l6\\x99\\x86m\\x8c\\x98\\xe1\\x99\\x1cX\\xd7\\x1cY\\x94\\xd5f%Z\\xa2\\x00J\\\\lr\\x9e\\x1d_\\xa4\\xbc\\xb0\\xc3\\x13\\xaa\\xa4\\x88\\xacX\\x9f]\\'e\\x9e5\\x11j9\\xcf~\\x7f4\\xc7\\xfa\\xa4\\xf7\\xdd\\x9c\\tlM\\x1c*\\xe2.0-\\xb3\\xdd\\xff\\x90iK\\xdb\\x87\\xee\\xde\\xf2\\xcd\\xf5\\xd9d\\xfct\\xaf\\xb5\\xf3\\x1d\\x99\\xa0\\xd3\\x87\\xcc\\xca\\xb6\\x11V\\x8f\\xed\\xb4>M \\x94\\x83\\xc6\\xf4\\xce\\xe8\\xff_Es\\xb5\\x89\\xf2}\\xda\\xd6\\x1a_=h\\x08irF\\xd1}\\xd8\\xf8#\\xde\\x05\\xa6\\x97\\xcc\\xc6\\x965\\xd0w)\\xa5Z\\x13\\x8b3|\\xc7\\x04=+C\\x97X;\\xa7GFdC\\xc6wo\\x8dx7\\xdd\\xde\\xfc\\x94\\x1c\\xcb\\xdfm\\xf2z-5\\xd6S8\\x9b\\x8f\\xa9\\xa6i\\x90\\xf1-\\x1bL\\xab\\xa8\\x1e\\x12\\x98\\x89\\xb2\\x138U\\x8a\\xfeK\\xc3R.\\xa1\\xecuR&B\\\\t=\\xb9\\x0f\\x0b\\xe8\\x8c\\x84\\xf3\\x1f\\x80\\xbf\\xb3\\x01Ll\\xf0}\\x04\\xc9[r\\xa0.\\x19\\xeb\\xdaX!Z\\xdd\\x10Y\\xe6\\xcd\\x94*\\x9c\\xde\\x1d1\\xe4\\x96(\\x08\\xb4 J\\xd3\\xd4\\xd2\\xf7wG\\xd0>M\\xe9\\x1cjm\\xda\\x98\\x89@\\xb7EL\\xb3=\\x13\\xf5M\"\\x85\\xb1~H\\xd7((\\xff\\x01\\x91\\x9a\\xdd\\xb9\\x95\\xf1\\x13:\\x90\\xc1\\xa7\\xa6\\xc4\\xd1\\xe64\\xda~\\xb4)\\xb2C\\x0cJ?f\\xedN\\x03Q\\xab+\\x9c\\xebs\\xdc\\x8ei\\x91\\xa0?\\x9bqU&G\\x91\\xfa\\x0fG\\x8a\\xef\\xcf\\xa3\\xe3\\xd6\\x8e\\x80\\x9d\\xfb-.\\x92\\xca\\xd2\\x06\\x83\\xe6y\\n#\\xe5\\xcd\\xf7D\\xdf\\xf5d\\xf8\\xb49\\xc7\\xa5\\xda\\x92\\xc3g\\xe9\\xe6\\x18\\xff4\\xac\\xf4\\x9a*\\xddR\\xda\\xcc\\xafK\\x13\\xd78\\x1e\\x1b+\\xfa\\x82\\x9b%\\xc2\\x9d6\\xf0\\xbd*\\x9c\\xee\\xa2\\xb5\\xe55\\xcb\\xb90I\\xf6\\x0e\\x9c\\x143\\xa8\\xa1I`\\xb7\\x14}g\\x8e\\x15h\"T\\x88\\xc5\\x8381\\xe3\\xcb\\xe7\\xd1\\xc1\\x91\\xf0\\xf4\\xe6(\\xcd\\x89\\xd1\\xe4\\xf4\\xdb\\xf8\\xa6~\\xd7\\xbaH\\xf8\\xbb#\\xad\\xbe\\xb6F\\x85<+\\xf21S\\xb4q\\xb4\\xfd\\xd6Ky\\xb1E\\xec\\xcf\\xaf\\xcf\\xa4]\\xba\"&\\xdd\\x94;\\xbe\\x05\\xd7\\x882\\xc56\\x99@\\x84\\xadC(\\x85X\\xe3>\\x1fm\\x0c\\xd9\\xa7{\\xafE\\xef\\x8c\\x04}[d\\xd9\\x1e\\x8c\\\\\\x9a\\xb6(N\\x12\\xd3\\xa4h~\\xb2s\\x94\\xba\\'}\\x99\\xb6\\xb6DJ\\xef\\xf9*\\x8ac\\xa4y\\xecGl\\x1c;\\xed\\xdeC\\xd5^\\x1c\\x94A\\x11\\xf1\\xbc\\xa4\\x06\\xe9\\xb9*\\xe7\\x9ff\\x8a\\xf18\\x86Q\\xe7\\xe1lB\\xda\\xa3\\x89\\x9a\\xc9\\xf0\\x17\\xfa\\xd7\\x02\\xd7\\x17 \\xdc\\x0fL\\xd6\\xb0O\\xd8\\xfbG\"\\xe4\\x86:\\xa6GmO\\xdb\\xdd\\x1b\\x07\\xf9\\xec\\x19`\\x0b\"\\xc6\\x1e\\x88&\\xba?\\xc7\"\\xb4E\\x82^iy\\xe1Q9L\\x1a\\xa7j:3\\xd0\\xab\\x9bRI\\xec\\xba\\x9c\\xc9\\xf6\\xd4\\x96\\xbbm\\x8f\\xce)f\"\\xc0y\\x0c<)\\xb2n\\xd9\\x82\\x8e?\\x8b \\xfd\\x8e\\n\\x03\\xdcjO[I\\x9f|\\xf3\\xa8U\\xd3\\xd549Q\\xdf\\x96\\xba\\xa2\\xef\\xad \\\\\\x9b#\\x85\\xb5.\\xb2\\x82\\x7feJ\\xaa\\x97\\xbd\\xeb\\xbe\\'G\\x82\\x9e\\xadc\\xff\\x9f\\x91\\xa0\\xc7\\n\\xac5BZ\\xcfgx\\x7fZ\\x15~\\xa8\\x95\\xde\\x17)\\xa0\\xee\\xd8g\\xae o3\\xa3\\xe0_o\\x8e\\xabU\\ri%\\x16`\\xfe*\\xc3\\xac\\xb4L\\x9fZ:\\x10\\xf9U\\xcd(W\\x0e\\'06\\x84?\\xdd\\xea\\x0b\\xee\\x1a\\ti\\xa6\\x89\\x84\\xbd\\xae\\x8e\\x1e\\xaa\\xe6\\xbdz\\x00\\x91wi\\xe5\\xfbM\\xb2`L+A\\xa1\\xbc#b\\x80j\\xb5\\xd7\\x1d\\x91\\x15|\\xad\\x82\\xb0M\\x8b\\x18fW\\xce\\xf9)\\xf4\\x7f1\\xb22\\x8d9\\x96\\xfb\\x9d\\x19\\x9f|(J\\xa28\\xc3\\x9a\\x08\\x95\\xa4\\x11\\xfd\\x973szx\\xd4\\x97l\\n\\xa7+\\x12\\xf4]\\xf9F\\x99\\x99\\x84\\x07Y\\xa6OuY6\\x8c\\xe99\\xd4\\xe2\\xbb\\xffl\\xaeRV\\x99N\\xa8\\xe2\\x1e9\\x13\\x968r\\x1e+\\xc7\\xf6\\x08\\x01\\xf4g\\x10\\xcc\\x8c\\xc8J\\xee\\xcc(\\x87\\xa6\\x9c\\xb1\\x88\\x15\\xc0\\x0e\\xa8i\\xc5\\xa3\\xcbQ<7\\x98\\xd2\\x1a\\xb0\\xb9\\xfeH\\x95\\xf3\\xdb\"c\\x90]cP\\x88\\xf8!o5a\\xa3\\x05\\xe0\\xd2\\x1dj\\xfc\\xf0\\x05]\\xd8\\x94\\xc24\\xfb|\\xa2*Wk\\xe2\\x9aF,\\x8c\\x05\\xd7\\xe0\\x13\\xb7@a\\x95\\x84\\x87 z\\x94\\xcbU9\\xdb\\x85G\\xf9\\x8c\\x9c\\x84iR\\xce\\x98 \\x1c\\xab\\x05w\\xae\\xc2J\\x85\\x16\\x85\\x0fI\\xd1o\\x8a\\xac@_\\x15HN\\xc6\\xe7\\xff\\x0f\\xd1\\xc4\\xfc\\xaf\\xc8Z7\\xe4@\\xae\\xacF\\xf6\\x91\\xe5\\xf8\\xef\\xd1\\xef\\x1b3\\x13\\x9e\\x8e\\x7f\\xde\\xe6\\x153\\x08{\\x96e\\x85\\x13\\x8b\\xd2\\xa7\\x96\\xb11\\xb2H)\\x1dO\\xf9C\\x10\\xd2\\xb6L7\\x86\\x9f\\x1c\\xf9\\x8c\\xfdv\\x9d\\x8b2F\\xf9\\xc3`O\\xbc\\x11\\xee\\x91\\xbd\\x03}\\xf9\\n=q\\xe7\\x02W\\x8bp\\xaf\\xc2\\xe99\\x0fX\\x8c\\xdd\\xa8\\x17r.\\xd3\\x14\\xf55NwM!\\x18\\n\\x97\\tbu\\xd8\\xbc\\xc5h\\xac\\x12\\x82\\xc8\\x06\\xbfb\\xa5\\xf3l\\r\\x81\\xb8\\x89\\x99q\\x9d@\\xd8\\r\\xa6\\xd1\\x02f)::#\\x9a\\xd3&C]\\rQ\\x1c\\x81\\x8c\\xa2u\\x84t\\\\:\\xdf;s\\x90L\\'\\xa5\\xf4\\xee)\\x0c\\xbf4{0\\x18\\xb7\\x1ae\\xf7`\\x04[q\"\\\\\\x8ar\\xb7&nV\\xad\\xd6\\xdd\\x17\\x9c\\xf3\\x89\\x9b\\xe4\\x0b\\xeeL\\x85\\xc7Qn\\x17e&\\xca:\\t\\xd0\\xeaK5<\\xc4oh9W&Rjk\\xbag\\xe1L\\x84\\x9b\\x046\\n\\x1c\\x1d\\xedk\\xd6\\x15i\\xd0\\x1dCL$Q\\x90k\\x961\\xd7zc\\x82\\x0e\\xca\\xf3\\xbf\\xe9S=\\x92\\xc8\\xea\\xa6\\x0c\\xba1\\x87\\xb1\\xb7\\x10\\xd2=\\xcb2\\x96\\xe1\\x14J\\xb9\\xe5\\x0e\\xcb\\x08\\xdc\\x96\\x81\\xa6\\x9d\\x99\\x0c\\xc0A\\x96=H\\xe9O\\x8d\\xe1\\x16\\xd9\\xf9\\xab#\\xa5\\xb3\\xd1\\x18\\xe9lJ%\\xb2\\xa9E;\\xcc\\x98\\xf5\\xa9\\xc8\\xc5\\x9a\\x8erR\\xb44\\xb5\\x138\\xde*\\x11\\x13_p\\xd34q\\xd3m\\xcb\\xa8\\x85V\\xe0t\\xb7\\x05\\x96\\xaeS\\xe5;\\xc0\\xc9\\x15\\x94yW\\xa5\\x98Jd\\xb5&F\\x82\\xd8d\\n\\xea\\xf6\\x8c\\x0b\\xd2\\x13\\x8dACF\\xd07\\xd9\\xe7[\\x0cQU\\xb2\\x941\\x02[m\\xd7\\xb9\\x82\\xd2^\\tM\\x99@n;a7\\x19g\\xfd\\xb8\\xdd\\xae\\x7f\\x1eA\\x11>\\x15\\xcd\\xd5\\x8d\\xd6\\xee[\\ty|\\x9f#\\xe8}v\\xedk\\xec\\xba\\xdb\"$3\\x10\\x8d\\xc1]\\x86\\x06\\xcf\\xb5\\xf6\\xce\\xa2|\\xb3\\x93\\x16\\x0b\\xce5\\xd7\\x12\\x8c\\xdb*as\\x87cSMN\\xa8_\\x9e\\x0f\\xcc\\x15\\xf8\\xa9&\\xee>\\x85\\xd5\\x02\\xbd\\n;\\x04\\xbc\\x86-\\x9c\\xdbLk\\xceT\\xe5\\xfd\\xc0\\x9ct\\x11\\x8a1\\xfd?\",\\x19\\xd3%\\x8b\\xe9\\x1e\\xe1\\xe9B\\x97\\x10\\xdd\\xf5\\xc0W$<\\xa4\\xa0/\\x1a\\x84\\xf6\\x1cm\\x9eG\\xff1\\xe3w\\xddG\\xd8<\\xe2\\xc1H\\x83\\xbb(r\\xfa~\\x13\\xaab\\x06\\x8e\\xc7\\x1b9\\xc4\\x01\\xc3\\xf3\\xcc\\xea\\x9fM\\xd8\\xce8\\xa5\\xf9\\x84\\xbd\\xc1\\xb7\\x1bs\\xac\\xa7\\x94rJ)~\\xb4\\xd0\\xd1\\xa6T\\xee\\xa2Tzy&\\xa1\\xe8\\xa4\\xcb\\xa2\\xca\\x97Dq\\x89\\xcb\\x08\\xf9\\xe5\\xcb)\\xaf\\x17\\x9fB(V9!U\\x0c>q3\\x04\\xbe\\xa9B\\xeb\\xe0\\xda!e\\x16p\\x07\\x92\\x0b\\xf1c\\xb7\\xfcY\\x81\\xcb\\x10\\x1e\\xae\\x92A\\x99\\x92Q@y\\x86\\xa7!R\\x9c\\x0fQzT\\xd3\\xd6(\\x1a\\xff^{]h\\xb0yz\\xe6\\xbco\\x12j\\x04V\\x1b\\xcc\\xcd\\xcb>t\\xe4\\x8c\\xc56\\x9b\\xefF\\xfb|\\x12a\\x03\\xc7S\\xec\\xb8\\xb9\\xd6\\xa6\\x99\\xa6\\x90.\\'\\xa4\\r!\\xech\\x93\\xd6?,\\xb0\\xd7j\\xc2\\x8e>>\\xba\\'\\x91?\\xbf\\x8aP)xI\\x14\\x80\\xeb\\x8b\\x8e\\xbf\\xce\\x10ZJ\\xb3\\x8c/\\x1f\\xb3\\xf9\\xdfd\\xf3\\xfd\\xe4\\x90V>-\\x98\\xf1\\x89\\x9b\\xe5\\x13\\xf7J\\xd9F\\x80\\xe5\\xe5\\xa5\\xaa\\x05\\xf7\\x86\\x16\\xdck\\xbe\\xe0^\\xd5\\x82{U\\x13\\xf7\\xaa&\\xee\\x0f\\xbe\\xe0\\xde\\xcc\\x9c\\xb3G\\x0b\\xeeq\\xd3\\xfac^|\\xa3\\x89\\xbb^\\xcb\\xef\\xf7{M\\xdc\\x19\\xba\\xf7\\xf3\\xbd\\xa6R*p\\xb9b\\x88\\xcb^M\\xa9x\\xe2\\xe9\\xc8\\xe7K\\xe9$\\xcaK\\x1e\\x0f\\xc9\\xfc\\xbe\\x8aR\\xb1CJwG\\xe7\\xdc\\x19Y\\xab\\xd9\\x94\\x8a_\\xe2R\\xc6e\\x94\\x17\\xea\\xa4tMt\\xdc\\x93f5\\xa6g\\xce\\x7f)\\n\\xce\\xfd\\x88R9\\xe9\\x19\\x11CO\\x03\\xf68\\xd0i\\xff\\x8e\\xdf\\\\\\xd3&\\'j\\xe2\\xe6j\\xe2\\xce\\xf4\\x05w\\xbb/\\xb8\\xd7\\xb4\\x10\\xcd{\\xa5\\xf7R\\xfd\\xfb\\x1f4l\\xd8y\\x9a/m>Y\\x8dn\\xb0v\\xbdJ\\xfe6OM\\xd6\\xbf\\xb4O\\xaf\\xdb\\xbc5\\x982SB\\x81\\xca\\xf2\\xcc8\\x1d\\x16\\x8d\\xe7\\xef(/8Zk\\xdf\\xff,c\\t/\\x88\\xee\\xf3\\x07\\xbbOc$\\x90\\xafF\\xbf5\\x9a\\xcb\\x13\\xcf\\xd5\\x173\\xc8\\xac\\x83\\xf2\\r7\\x7f\\xcd\\xde\\xdb\\x9b/\\xcd\\xf0\\xd0Qv\\x8dvJ\\x857O\\xd8\\xfd\\xda\\xec\\xde\\xcfX\\xdb\\xd2\\xda\\xfa\\xbc\\x9a\\xff!7\\xce,\\xafu/\\xb8\\xb3|\\xc1\\xed\\xf1\\xe5\\x95Mq\\xf5\\xd9\\xdeJ\\xa0\\x90\\xf9>qk}\\xc1\\x9d\\xa6\\x05\\xd7\\xcc8\\x91O\\xdct\\x9f\\xb8\\x17L\\xf1\\xdc\\xed\\x137\\xa3\\xc2\\xa1sL\\xd8\\x16V\\x10\\xa0\\x98\\x8e5\\xc1\\xb8\\x81\\xfc%\\xa6S\\tu\\xd6\\xf7\\xe5DV\\x9b)U5\\xc5\\xd5\\\\\\x17\\xdb9Kr\\xa0\\xd5\\x17\\x8c\\x99^7+q\\x14\\x95\\x97\\r\\x1fc\\nkY\\x84P\\x1aL\\xa0\\xdf4\\xa8\\x1f\\xc3\\xc2\\xe5\\xc60sr\\xdc\\x93\\xdf\\xcf\\xfe\\xf7\\xfc\\xe8\\xcd\\x82\\xbc\\x99.V\\xf1\\xd1\\x1cg\\x16\\xa6\\xec\\xd1\\xc4\\xbd\\xe1\\x0b\\xee\\x15\\xdb\\xd1\\xf5\\x19-\\xb8\\x95\\x9a\\xb8\\xe5\\xbe\\xe0.\\xf0\\x89\\xeb\\xf6\\xe1\\xf1\\xd5\\xb5\\xd22S\\xa8\\xb3\\xaa\\x1c\\xf3I\\xeb\\xd3\\x93\\x91 @\\xa8\\x0c\\xfc\\xadA\\xd8\\x86\\x1c\\x1f\\xf67\\x84*\\xb2\\xee\\x8c\\xe2\\xf8\\x85\\x9d\\x93}D\\xd2\\x99\\xa6\\x1cV\\xb1\\xf7\\x03\\x18\\x9b\\x0c\\xfa\\xbfnh\"E\\x1a\\xcfY\\x1b\\x16U\\x98\\xab3m\\x9eV\\x91\\xff\\xf4\\x94\\xd3\\xec\\xf7\\xe5\\x19\\xeb\\x1e+\\x91\\x87\\xec\\xdag\\xd9xM\\xccd}R\\x83\\xf2\\xb2\\xf1j{l\\xb4+\\xbdDU\\x07w\\xc54\\xeb\\xbb\\x08e)\\x12\\x82S\\n{\\xa16\\x8d\\xfe\\xb1Sw)\\xfcR\\x02\\\\\\xbag\\xac\\x9f\\xd4YA\\xd8\\x9b\\xac\\xb8\\xa7\\xaf\\nTt\\xc3\\x88l\\xa7;\\x9eV\\xabyn\\xaa\\xf0\\xfbTc\\xa8V\\xc2C\\xef\\x16g\\xae\\xd9_\\xe5z0t\\x9du\\xa5\\xb6\\xa5\\x8bi\\xf2\\xbe\\x87\\xfce\\x8b\\x8d\\x9f\\xfa\\x13\\x06\\xbe\\xfc_L@m\\x0e\\xe3]\\xbf\\xe3\\xcfR\\x9e.\\xf3\\x80\\x1fE\\xe5d\\x03Co\\xb9\\x94\\xf6u s\\xac\\x8b\\xfaJ\\x05\\xff\\xde\\xe7\\x9c\\xe3*\\xdc3]\\xce\\xba\\xa9\\xc2\\xefyc\\xde\\x18\\xcd\\x17U\\xe6t`\\x18\\xd7L\\xf9\\xe7\\xd7\\xf6\\xff\\xf7,r\\xdf@\\xf9:\\x8a\\xec\\x9c\\xfbl;\\xaam\\xdd^&\\xe8Q\\xc4|\\x9a\\n\\x17\\n,T\\x82\\xbf\\x1d\\x1fb\\xbe\\xdbn\\x84\\xd5(\\x0f\\x10\"\\xb3\\xebF\\xb9W\\xdb\\x1f3\\x1dJ\\xe9Q;\\'\\x13\\xb6\\xe3\\xadS\\x9d\\xf2\\x90Y\\x07aK0*\\x08\\xfa\\x97\\t\\xa5\\xc0\\xc3wi\\xab\\x08z.T\\x94\\x1e\\xbf\\x1e\\xb8P\\x13\\xf7\\x19\\x94\\xe9\\xb6\\tc\\xab\\x05\\xbfv\\x88\\xb0\\x01\\xa1\\x98\\x93>9PiJ4\\x96\\xeb\\xea\\xc3Q\\xa7\\x1c\\xba\\xc8\\xe2\\x12\\x7f\\x93\\xf3[\\xecV\\xfez<n^5mf\\x16\\xfaY\\xf27I\\xacS\\x89\\xba\\xec=\\xaf4\\xb3NuZH\\xc8\\xcaT\\xb2\\xd4\\x13\"Wk\\xcd>\\x17\\xf4:\\xd5Lij-[\\x95U\\xa7:u\\x11\\xd6\\xa8\\xbf\\xb7\\x8ao\\x9f\\x16kmf\\x9c\\x9e\\x02\\xec\\xea\\xf30&\\xca2\\xcd\\x0f\\xafg\\x9c\\xf6\\xe5\\xae\\xd3\\x1f-\\x9dD\\xc8\\xb5W\\xab\\x06MW\\xd1}\\x7f\\xbc\\x0cE]\\xd0\\xc7f\\x0c\\xd3T\\xc9s\\xf5\\xe1\\xa8S\\x86\\xfe\\x8c\\xbd\\xf7.\\xc8\\x1a\\x8a\\xf9\\x84\\x82\\xae\\xa5\\xe3\\xc9\\xa4u\\x1a\\xbdE\\x9fD\\xe5\\x07>\\xd4\\xe9\\xc0\\xa6\\xcd\\x94\\x1e*\\x91G\\xf3\\xccP|\\x8cZ\\x1f\\x81<\\x12\\xda\\x17\\x8fM~\\x9b\\xd3TB\\xe1\\xc52*?\\x82\\xb7N\\x07.\\xcd \\x14M\\xddA(g\\x8d\\x17\\xbc\\x1cO(\\xe8\\xea\\x1e+Y\\xae\\xa92\\xaeN#\\xa29\\x84\\x9dE\\x1b\\xebCQ\\xa7\\nt\\x14\\xa1r\\xf2\\r\\x13\\xfa\\x1eB\\x05\\xdc9\\x8c\\xe1\\x13_k\\xae\\x8c\\xab\\xd3\\x88\\xa8\\x99\\x11,\\x1b\\xac\\xd3\\x01G\\x13\\xccr\\xb7\\x10\\xb23EF\\xfe`\\xc6a\\xa3s\\xa9[\\xf4:\\xd5\\xe9\\xedO\\xf5`\\\\\\x9d\\xeaT\\x17\\xf4:\\xd5\\xa9NuA\\xafS\\x9d\\xeaT\\x17\\xf4:\\xd5\\xa9NuA\\xafS\\x9d\\xea\\xb4\\x8f\\xe8\\xff\\x0f\\x00\\x1b\\xc0\\xf3mtL\\x0c\\x89\\x00\\x00\\x00\\x00IEND\\xaeB`\\x82'"
      ]
     },
     "execution_count": 23,
     "metadata": {},
     "output_type": "execute_result"
    }
   ],
   "source": [
    "img_req.content"
   ]
  },
  {
   "cell_type": "code",
   "execution_count": 25,
   "metadata": {},
   "outputs": [],
   "source": [
    "s=open(\"test.jpg\",\"wb\")"
   ]
  },
  {
   "cell_type": "code",
   "execution_count": 26,
   "metadata": {},
   "outputs": [
    {
     "data": {
      "text/plain": [
       "10539"
      ]
     },
     "execution_count": 26,
     "metadata": {},
     "output_type": "execute_result"
    }
   ],
   "source": [
    "s.write(img_req.content)"
   ]
  },
  {
   "cell_type": "code",
   "execution_count": 27,
   "metadata": {},
   "outputs": [
    {
     "data": {
      "text/plain": [
       "<function BufferedWriter.close>"
      ]
     },
     "execution_count": 27,
     "metadata": {},
     "output_type": "execute_result"
    }
   ],
   "source": [
    "s.close"
   ]
  },
  {
   "cell_type": "markdown",
   "metadata": {},
   "source": [
    "<img src=\"test.jpg\">"
   ]
  },
  {
   "cell_type": "code",
   "execution_count": null,
   "metadata": {},
   "outputs": [],
   "source": []
  }
 ],
 "metadata": {
  "kernelspec": {
   "display_name": "Python 3",
   "language": "python",
   "name": "python3"
  },
  "language_info": {
   "codemirror_mode": {
    "name": "ipython",
    "version": 3
   },
   "file_extension": ".py",
   "mimetype": "text/x-python",
   "name": "python",
   "nbconvert_exporter": "python",
   "pygments_lexer": "ipython3",
   "version": "3.5.2"
  }
 },
 "nbformat": 4,
 "nbformat_minor": 2
}
